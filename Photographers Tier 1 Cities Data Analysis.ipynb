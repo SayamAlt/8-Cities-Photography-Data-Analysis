{
 "cells": [
  {
   "cell_type": "markdown",
   "id": "fd8707a4",
   "metadata": {},
   "source": [
    "# INTERN NAME: SAYAM KUMAR"
   ]
  },
  {
   "cell_type": "markdown",
   "id": "50adc50b",
   "metadata": {},
   "source": [
    "## Importing the relevant libraries"
   ]
  },
  {
   "cell_type": "code",
   "execution_count": 1,
   "id": "8848079e",
   "metadata": {},
   "outputs": [],
   "source": [
    "import numpy as np\n",
    "import pandas as pd\n",
    "import seaborn as sns\n",
    "import matplotlib.pyplot as plt\n",
    "%matplotlib inline\n",
    "from scipy import stats\n",
    "import re\n",
    "import warnings\n",
    "warnings.filterwarnings(\"ignore\")\n",
    "import datetime"
   ]
  },
  {
   "cell_type": "code",
   "execution_count": 2,
   "id": "e434eb11",
   "metadata": {},
   "outputs": [],
   "source": [
    "np.set_printoptions(suppress=True,linewidth=150,precision=2)"
   ]
  },
  {
   "cell_type": "code",
   "execution_count": 3,
   "id": "24185401",
   "metadata": {},
   "outputs": [],
   "source": [
    "plt.rcParams['figure.figsize'] = (16,8)"
   ]
  },
  {
   "cell_type": "markdown",
   "id": "d3679fef",
   "metadata": {},
   "source": [
    "## Loading the dataset"
   ]
  },
  {
   "cell_type": "code",
   "execution_count": 4,
   "id": "ab4801f2",
   "metadata": {},
   "outputs": [],
   "source": [
    "delhi_data = pd.read_excel('Delhi.xlsx')\n",
    "mumbai_data = pd.read_excel('Mumbai.xlsx')\n",
    "chennai_data = pd.read_excel('Chennai.xlsx')\n",
    "kolkata_data = pd.read_excel('Kolkata.xlsx')\n",
    "ahmedabad_data = pd.read_excel('Ahmedabad.xlsx')\n",
    "bangalore_data = pd.read_excel('Bangalore.xlsx')\n",
    "hyderabad_data = pd.read_excel('Hyderabad.xlsx')\n",
    "pune_data = pd.read_excel('Pune.xlsx')"
   ]
  },
  {
   "cell_type": "code",
   "execution_count": 5,
   "id": "30abc330",
   "metadata": {},
   "outputs": [
    {
     "data": {
      "text/html": [
       "<div>\n",
       "<style scoped>\n",
       "    .dataframe tbody tr th:only-of-type {\n",
       "        vertical-align: middle;\n",
       "    }\n",
       "\n",
       "    .dataframe tbody tr th {\n",
       "        vertical-align: top;\n",
       "    }\n",
       "\n",
       "    .dataframe thead th {\n",
       "        text-align: right;\n",
       "    }\n",
       "</style>\n",
       "<table border=\"1\" class=\"dataframe\">\n",
       "  <thead>\n",
       "    <tr style=\"text-align: right;\">\n",
       "      <th></th>\n",
       "      <th>Name</th>\n",
       "      <th>Type</th>\n",
       "      <th>Location</th>\n",
       "      <th>Contact no available?</th>\n",
       "      <th>Contact</th>\n",
       "      <th>Photographer name</th>\n",
       "      <th>comment</th>\n",
       "      <th>Email ID</th>\n",
       "      <th>Employees in studio</th>\n",
       "      <th>Monthly orders</th>\n",
       "      <th>...</th>\n",
       "      <th>Email id</th>\n",
       "      <th>Contact</th>\n",
       "      <th>Website</th>\n",
       "      <th>Internet</th>\n",
       "      <th>Contact number avilable?</th>\n",
       "      <th>Contact is available?</th>\n",
       "      <th>Comment</th>\n",
       "      <th>Unnamed: 19</th>\n",
       "      <th>Unnamed: 7</th>\n",
       "      <th>Unnamed: 0</th>\n",
       "    </tr>\n",
       "  </thead>\n",
       "  <tbody>\n",
       "    <tr>\n",
       "      <th>0</th>\n",
       "      <td>Innfinites Photography - Wedding Photographer ...</td>\n",
       "      <td>· Wedding photographer</td>\n",
       "      <td>Mumbai</td>\n",
       "      <td>1.0</td>\n",
       "      <td>099200 64544</td>\n",
       "      <td>NaN</td>\n",
       "      <td>Bad review</td>\n",
       "      <td>NaN</td>\n",
       "      <td>NaN</td>\n",
       "      <td>NaN</td>\n",
       "      <td>...</td>\n",
       "      <td>NaN</td>\n",
       "      <td>NaN</td>\n",
       "      <td>NaN</td>\n",
       "      <td>NaN</td>\n",
       "      <td>NaN</td>\n",
       "      <td>NaN</td>\n",
       "      <td>NaN</td>\n",
       "      <td>NaN</td>\n",
       "      <td>NaN</td>\n",
       "      <td>NaN</td>\n",
       "    </tr>\n",
       "    <tr>\n",
       "      <th>1</th>\n",
       "      <td>Picsurely: Destination Wedding Photographer in...</td>\n",
       "      <td>· Wedding photographer</td>\n",
       "      <td>Mumbai</td>\n",
       "      <td>1.0</td>\n",
       "      <td>080805 55605</td>\n",
       "      <td>NaN</td>\n",
       "      <td>Not intrested</td>\n",
       "      <td>NaN</td>\n",
       "      <td>NaN</td>\n",
       "      <td>NaN</td>\n",
       "      <td>...</td>\n",
       "      <td>NaN</td>\n",
       "      <td>NaN</td>\n",
       "      <td>NaN</td>\n",
       "      <td>NaN</td>\n",
       "      <td>NaN</td>\n",
       "      <td>NaN</td>\n",
       "      <td>NaN</td>\n",
       "      <td>NaN</td>\n",
       "      <td>NaN</td>\n",
       "      <td>NaN</td>\n",
       "    </tr>\n",
       "    <tr>\n",
       "      <th>2</th>\n",
       "      <td>Wedding Photographers in Mumbai</td>\n",
       "      <td>· Wedding photographer</td>\n",
       "      <td>Mumbai</td>\n",
       "      <td>1.0</td>\n",
       "      <td>087792 89752</td>\n",
       "      <td>NaN</td>\n",
       "      <td>Quited Photography</td>\n",
       "      <td>NaN</td>\n",
       "      <td>NaN</td>\n",
       "      <td>NaN</td>\n",
       "      <td>...</td>\n",
       "      <td>NaN</td>\n",
       "      <td>NaN</td>\n",
       "      <td>NaN</td>\n",
       "      <td>NaN</td>\n",
       "      <td>NaN</td>\n",
       "      <td>NaN</td>\n",
       "      <td>NaN</td>\n",
       "      <td>NaN</td>\n",
       "      <td>NaN</td>\n",
       "      <td>NaN</td>\n",
       "    </tr>\n",
       "    <tr>\n",
       "      <th>3</th>\n",
       "      <td>A.Rrajani Photography Fashion,Portfolio,Advert...</td>\n",
       "      <td>· Photographer</td>\n",
       "      <td>Mumbai</td>\n",
       "      <td>1.0</td>\n",
       "      <td>070453 60660</td>\n",
       "      <td>NaN</td>\n",
       "      <td>Not received</td>\n",
       "      <td>NaN</td>\n",
       "      <td>NaN</td>\n",
       "      <td>NaN</td>\n",
       "      <td>...</td>\n",
       "      <td>NaN</td>\n",
       "      <td>NaN</td>\n",
       "      <td>NaN</td>\n",
       "      <td>NaN</td>\n",
       "      <td>NaN</td>\n",
       "      <td>NaN</td>\n",
       "      <td>NaN</td>\n",
       "      <td>NaN</td>\n",
       "      <td>NaN</td>\n",
       "      <td>NaN</td>\n",
       "    </tr>\n",
       "    <tr>\n",
       "      <th>4</th>\n",
       "      <td>Mint &amp; Peach Photography - Maternity Photograp...</td>\n",
       "      <td>· Photographer</td>\n",
       "      <td>Mumbai</td>\n",
       "      <td>1.0</td>\n",
       "      <td>088792 86806</td>\n",
       "      <td>Manali</td>\n",
       "      <td>NaN</td>\n",
       "      <td>NaN</td>\n",
       "      <td>3</td>\n",
       "      <td>NaN</td>\n",
       "      <td>...</td>\n",
       "      <td>NaN</td>\n",
       "      <td>NaN</td>\n",
       "      <td>NaN</td>\n",
       "      <td>NaN</td>\n",
       "      <td>NaN</td>\n",
       "      <td>NaN</td>\n",
       "      <td>NaN</td>\n",
       "      <td>NaN</td>\n",
       "      <td>NaN</td>\n",
       "      <td>NaN</td>\n",
       "    </tr>\n",
       "  </tbody>\n",
       "</table>\n",
       "<p>5 rows × 28 columns</p>\n",
       "</div>"
      ],
      "text/plain": [
       "                                                Name                    Type  \\\n",
       "0  Innfinites Photography - Wedding Photographer ...  · Wedding photographer   \n",
       "1  Picsurely: Destination Wedding Photographer in...  · Wedding photographer   \n",
       "2                    Wedding Photographers in Mumbai  · Wedding photographer   \n",
       "3  A.Rrajani Photography Fashion,Portfolio,Advert...          · Photographer   \n",
       "4  Mint & Peach Photography - Maternity Photograp...          · Photographer   \n",
       "\n",
       "  Location  Contact no available?      Contact  Photographer name  \\\n",
       "0   Mumbai                    1.0  099200 64544               NaN   \n",
       "1   Mumbai                    1.0  080805 55605               NaN   \n",
       "2   Mumbai                    1.0  087792 89752               NaN   \n",
       "3   Mumbai                    1.0  070453 60660               NaN   \n",
       "4   Mumbai                    1.0  088792 86806            Manali   \n",
       "\n",
       "              comment Email ID Employees in studio Monthly orders  ...  \\\n",
       "0          Bad review      NaN                 NaN            NaN  ...   \n",
       "1       Not intrested      NaN                 NaN            NaN  ...   \n",
       "2  Quited Photography      NaN                 NaN            NaN  ...   \n",
       "3        Not received      NaN                 NaN            NaN  ...   \n",
       "4                 NaN      NaN                   3            NaN  ...   \n",
       "\n",
       "  Email id Contact Website Internet Contact number avilable?  \\\n",
       "0      NaN     NaN     NaN      NaN                      NaN   \n",
       "1      NaN     NaN     NaN      NaN                      NaN   \n",
       "2      NaN     NaN     NaN      NaN                      NaN   \n",
       "3      NaN     NaN     NaN      NaN                      NaN   \n",
       "4      NaN     NaN     NaN      NaN                      NaN   \n",
       "\n",
       "  Contact is available? Comment Unnamed: 19 Unnamed: 7 Unnamed: 0  \n",
       "0                   NaN     NaN         NaN        NaN        NaN  \n",
       "1                   NaN     NaN         NaN        NaN        NaN  \n",
       "2                   NaN     NaN         NaN        NaN        NaN  \n",
       "3                   NaN     NaN         NaN        NaN        NaN  \n",
       "4                   NaN     NaN         NaN        NaN        NaN  \n",
       "\n",
       "[5 rows x 28 columns]"
      ]
     },
     "execution_count": 5,
     "metadata": {},
     "output_type": "execute_result"
    }
   ],
   "source": [
    "tier1_data = pd.concat([mumbai_data,delhi_data,chennai_data,kolkata_data,ahmedabad_data,bangalore_data,hyderabad_data,pune_data])\n",
    "tier1_data.head()"
   ]
  },
  {
   "cell_type": "code",
   "execution_count": 6,
   "id": "4065c17b",
   "metadata": {},
   "outputs": [
    {
     "data": {
      "text/plain": [
       "(1293, 28)"
      ]
     },
     "execution_count": 6,
     "metadata": {},
     "output_type": "execute_result"
    }
   ],
   "source": [
    "tier1_data.shape"
   ]
  },
  {
   "cell_type": "code",
   "execution_count": 7,
   "id": "0e76454e",
   "metadata": {},
   "outputs": [
    {
     "name": "stdout",
     "output_type": "stream",
     "text": [
      "<class 'pandas.core.frame.DataFrame'>\n",
      "Int64Index: 1293 entries, 0 to 190\n",
      "Data columns (total 28 columns):\n",
      " #   Column                        Non-Null Count  Dtype  \n",
      "---  ------                        --------------  -----  \n",
      " 0   Name                          1021 non-null   object \n",
      " 1   Type                          1184 non-null   object \n",
      " 2   Location                      1179 non-null   object \n",
      " 3   Contact no available?         711 non-null    float64\n",
      " 4   Contact                       148 non-null    object \n",
      " 5   Photographer name             265 non-null    object \n",
      " 6   comment                       899 non-null    object \n",
      " 7   Email ID                      47 non-null     object \n",
      " 8   Employees in studio           218 non-null    object \n",
      " 9   Monthly orders                206 non-null    object \n",
      " 10  Problems                      94 non-null     object \n",
      " 11  Internet (Brand)              185 non-null    object \n",
      " 12  Internet (Speed)              159 non-null    object \n",
      " 13  Internet (Monthly Cost)       135 non-null    object \n",
      " 14  Which cloud storage they use  171 non-null    object \n",
      " 15  How they do photo selection   190 non-null    object \n",
      " 16  Provides E-book?              198 non-null    object \n",
      " 17  Album designing(Own?)         204 non-null    object \n",
      " 18  Email id                      46 non-null     object \n",
      " 19  Contact                       1038 non-null   object \n",
      " 20  Website                       800 non-null    object \n",
      " 21  Internet                      1042 non-null   float64\n",
      " 22  Contact number avilable?      126 non-null    float64\n",
      " 23  Contact is available?         348 non-null    object \n",
      " 24  Comment                       97 non-null     object \n",
      " 25  Unnamed: 19                   9 non-null      object \n",
      " 26  Unnamed: 7                    1 non-null      float64\n",
      " 27  Unnamed: 0                    159 non-null    object \n",
      "dtypes: float64(4), object(24)\n",
      "memory usage: 292.9+ KB\n"
     ]
    }
   ],
   "source": [
    "tier1_data.info()"
   ]
  },
  {
   "cell_type": "code",
   "execution_count": 8,
   "id": "75e92f00",
   "metadata": {},
   "outputs": [
    {
     "data": {
      "text/html": [
       "<div>\n",
       "<style scoped>\n",
       "    .dataframe tbody tr th:only-of-type {\n",
       "        vertical-align: middle;\n",
       "    }\n",
       "\n",
       "    .dataframe tbody tr th {\n",
       "        vertical-align: top;\n",
       "    }\n",
       "\n",
       "    .dataframe thead th {\n",
       "        text-align: right;\n",
       "    }\n",
       "</style>\n",
       "<table border=\"1\" class=\"dataframe\">\n",
       "  <thead>\n",
       "    <tr style=\"text-align: right;\">\n",
       "      <th></th>\n",
       "      <th>Contact no available?</th>\n",
       "      <th>Internet</th>\n",
       "      <th>Contact number avilable?</th>\n",
       "      <th>Unnamed: 7</th>\n",
       "    </tr>\n",
       "  </thead>\n",
       "  <tbody>\n",
       "    <tr>\n",
       "      <th>count</th>\n",
       "      <td>711.0</td>\n",
       "      <td>1042.000000</td>\n",
       "      <td>126.0</td>\n",
       "      <td>1.0000</td>\n",
       "    </tr>\n",
       "    <tr>\n",
       "      <th>mean</th>\n",
       "      <td>1.0</td>\n",
       "      <td>1.431862</td>\n",
       "      <td>1.0</td>\n",
       "      <td>0.8157</td>\n",
       "    </tr>\n",
       "    <tr>\n",
       "      <th>std</th>\n",
       "      <td>0.0</td>\n",
       "      <td>9.137001</td>\n",
       "      <td>0.0</td>\n",
       "      <td>NaN</td>\n",
       "    </tr>\n",
       "    <tr>\n",
       "      <th>min</th>\n",
       "      <td>1.0</td>\n",
       "      <td>0.000000</td>\n",
       "      <td>1.0</td>\n",
       "      <td>0.8157</td>\n",
       "    </tr>\n",
       "    <tr>\n",
       "      <th>25%</th>\n",
       "      <td>1.0</td>\n",
       "      <td>1.000000</td>\n",
       "      <td>1.0</td>\n",
       "      <td>0.8157</td>\n",
       "    </tr>\n",
       "    <tr>\n",
       "      <th>50%</th>\n",
       "      <td>1.0</td>\n",
       "      <td>1.000000</td>\n",
       "      <td>1.0</td>\n",
       "      <td>0.8157</td>\n",
       "    </tr>\n",
       "    <tr>\n",
       "      <th>75%</th>\n",
       "      <td>1.0</td>\n",
       "      <td>1.000000</td>\n",
       "      <td>1.0</td>\n",
       "      <td>0.8157</td>\n",
       "    </tr>\n",
       "    <tr>\n",
       "      <th>max</th>\n",
       "      <td>1.0</td>\n",
       "      <td>183.000000</td>\n",
       "      <td>1.0</td>\n",
       "      <td>0.8157</td>\n",
       "    </tr>\n",
       "  </tbody>\n",
       "</table>\n",
       "</div>"
      ],
      "text/plain": [
       "       Contact no available?     Internet  Contact number avilable?  \\\n",
       "count                  711.0  1042.000000                     126.0   \n",
       "mean                     1.0     1.431862                       1.0   \n",
       "std                      0.0     9.137001                       0.0   \n",
       "min                      1.0     0.000000                       1.0   \n",
       "25%                      1.0     1.000000                       1.0   \n",
       "50%                      1.0     1.000000                       1.0   \n",
       "75%                      1.0     1.000000                       1.0   \n",
       "max                      1.0   183.000000                       1.0   \n",
       "\n",
       "       Unnamed: 7  \n",
       "count      1.0000  \n",
       "mean       0.8157  \n",
       "std           NaN  \n",
       "min        0.8157  \n",
       "25%        0.8157  \n",
       "50%        0.8157  \n",
       "75%        0.8157  \n",
       "max        0.8157  "
      ]
     },
     "execution_count": 8,
     "metadata": {},
     "output_type": "execute_result"
    }
   ],
   "source": [
    "tier1_data.describe()"
   ]
  },
  {
   "cell_type": "markdown",
   "id": "c4cca2c4",
   "metadata": {},
   "source": [
    "# Data Cleaning & Data Preprocessing"
   ]
  },
  {
   "cell_type": "markdown",
   "id": "76785546",
   "metadata": {},
   "source": [
    "## Checking for null values"
   ]
  },
  {
   "cell_type": "code",
   "execution_count": 9,
   "id": "b6c1bf05",
   "metadata": {},
   "outputs": [
    {
     "data": {
      "text/plain": [
       "Name                             272\n",
       "Type                             109\n",
       "Location                         114\n",
       "Contact no available?            582\n",
       "Contact                         1145\n",
       "Photographer name               1028\n",
       "comment                          394\n",
       "Email ID                        1246\n",
       "Employees in studio             1075\n",
       "Monthly orders                  1087\n",
       "Problems                        1199\n",
       "Internet (Brand)                1108\n",
       "Internet (Speed)                1134\n",
       "Internet (Monthly Cost)         1158\n",
       "Which cloud storage they use    1122\n",
       "How they do photo selection     1103\n",
       "Provides E-book?                1095\n",
       "Album designing(Own?)           1089\n",
       "Email id                        1247\n",
       "Contact                          255\n",
       "Website                          493\n",
       "Internet                         251\n",
       "Contact number avilable?        1167\n",
       "Contact is available?            945\n",
       "Comment                         1196\n",
       "Unnamed: 19                     1284\n",
       "Unnamed: 7                      1292\n",
       "Unnamed: 0                      1134\n",
       "dtype: int64"
      ]
     },
     "execution_count": 9,
     "metadata": {},
     "output_type": "execute_result"
    }
   ],
   "source": [
    "tier1_data.isnull().sum()"
   ]
  },
  {
   "cell_type": "markdown",
   "id": "292ae3d1",
   "metadata": {},
   "source": [
    "## Checking for duplicate data if any"
   ]
  },
  {
   "cell_type": "code",
   "execution_count": 10,
   "id": "c1990acb",
   "metadata": {},
   "outputs": [
    {
     "data": {
      "text/html": [
       "<div>\n",
       "<style scoped>\n",
       "    .dataframe tbody tr th:only-of-type {\n",
       "        vertical-align: middle;\n",
       "    }\n",
       "\n",
       "    .dataframe tbody tr th {\n",
       "        vertical-align: top;\n",
       "    }\n",
       "\n",
       "    .dataframe thead th {\n",
       "        text-align: right;\n",
       "    }\n",
       "</style>\n",
       "<table border=\"1\" class=\"dataframe\">\n",
       "  <thead>\n",
       "    <tr style=\"text-align: right;\">\n",
       "      <th></th>\n",
       "      <th>Name</th>\n",
       "      <th>Type</th>\n",
       "      <th>Location</th>\n",
       "      <th>Contact no available?</th>\n",
       "      <th>Contact</th>\n",
       "      <th>Photographer name</th>\n",
       "      <th>comment</th>\n",
       "      <th>Email ID</th>\n",
       "      <th>Employees in studio</th>\n",
       "      <th>Monthly orders</th>\n",
       "      <th>...</th>\n",
       "      <th>Email id</th>\n",
       "      <th>Contact</th>\n",
       "      <th>Website</th>\n",
       "      <th>Internet</th>\n",
       "      <th>Contact number avilable?</th>\n",
       "      <th>Contact is available?</th>\n",
       "      <th>Comment</th>\n",
       "      <th>Unnamed: 19</th>\n",
       "      <th>Unnamed: 7</th>\n",
       "      <th>Unnamed: 0</th>\n",
       "    </tr>\n",
       "  </thead>\n",
       "  <tbody>\n",
       "    <tr>\n",
       "      <th>150</th>\n",
       "      <td>NaN</td>\n",
       "      <td>NaN</td>\n",
       "      <td>NaN</td>\n",
       "      <td>NaN</td>\n",
       "      <td>NaN</td>\n",
       "      <td>NaN</td>\n",
       "      <td>NaN</td>\n",
       "      <td>NaN</td>\n",
       "      <td>NaN</td>\n",
       "      <td>NaN</td>\n",
       "      <td>...</td>\n",
       "      <td>NaN</td>\n",
       "      <td>NaN</td>\n",
       "      <td>NaN</td>\n",
       "      <td>NaN</td>\n",
       "      <td>NaN</td>\n",
       "      <td>NaN</td>\n",
       "      <td>NaN</td>\n",
       "      <td>NaN</td>\n",
       "      <td>NaN</td>\n",
       "      <td>NaN</td>\n",
       "    </tr>\n",
       "    <tr>\n",
       "      <th>151</th>\n",
       "      <td>NaN</td>\n",
       "      <td>NaN</td>\n",
       "      <td>NaN</td>\n",
       "      <td>NaN</td>\n",
       "      <td>NaN</td>\n",
       "      <td>NaN</td>\n",
       "      <td>NaN</td>\n",
       "      <td>NaN</td>\n",
       "      <td>NaN</td>\n",
       "      <td>NaN</td>\n",
       "      <td>...</td>\n",
       "      <td>NaN</td>\n",
       "      <td>NaN</td>\n",
       "      <td>NaN</td>\n",
       "      <td>NaN</td>\n",
       "      <td>NaN</td>\n",
       "      <td>NaN</td>\n",
       "      <td>NaN</td>\n",
       "      <td>NaN</td>\n",
       "      <td>NaN</td>\n",
       "      <td>NaN</td>\n",
       "    </tr>\n",
       "    <tr>\n",
       "      <th>153</th>\n",
       "      <td>NaN</td>\n",
       "      <td>NaN</td>\n",
       "      <td>NaN</td>\n",
       "      <td>NaN</td>\n",
       "      <td>NaN</td>\n",
       "      <td>NaN</td>\n",
       "      <td>NaN</td>\n",
       "      <td>NaN</td>\n",
       "      <td>NaN</td>\n",
       "      <td>NaN</td>\n",
       "      <td>...</td>\n",
       "      <td>NaN</td>\n",
       "      <td>NaN</td>\n",
       "      <td>NaN</td>\n",
       "      <td>NaN</td>\n",
       "      <td>NaN</td>\n",
       "      <td>NaN</td>\n",
       "      <td>NaN</td>\n",
       "      <td>NaN</td>\n",
       "      <td>NaN</td>\n",
       "      <td>NaN</td>\n",
       "    </tr>\n",
       "    <tr>\n",
       "      <th>126</th>\n",
       "      <td>NaN</td>\n",
       "      <td>NaN</td>\n",
       "      <td>NaN</td>\n",
       "      <td>NaN</td>\n",
       "      <td>NaN</td>\n",
       "      <td>NaN</td>\n",
       "      <td>NaN</td>\n",
       "      <td>NaN</td>\n",
       "      <td>NaN</td>\n",
       "      <td>NaN</td>\n",
       "      <td>...</td>\n",
       "      <td>NaN</td>\n",
       "      <td>NaN</td>\n",
       "      <td>NaN</td>\n",
       "      <td>NaN</td>\n",
       "      <td>NaN</td>\n",
       "      <td>NaN</td>\n",
       "      <td>NaN</td>\n",
       "      <td>NaN</td>\n",
       "      <td>NaN</td>\n",
       "      <td>NaN</td>\n",
       "    </tr>\n",
       "    <tr>\n",
       "      <th>125</th>\n",
       "      <td>NaN</td>\n",
       "      <td>NaN</td>\n",
       "      <td>NaN</td>\n",
       "      <td>NaN</td>\n",
       "      <td>NaN</td>\n",
       "      <td>NaN</td>\n",
       "      <td>NaN</td>\n",
       "      <td>NaN</td>\n",
       "      <td>NaN</td>\n",
       "      <td>NaN</td>\n",
       "      <td>...</td>\n",
       "      <td>NaN</td>\n",
       "      <td>NaN</td>\n",
       "      <td>NaN</td>\n",
       "      <td>NaN</td>\n",
       "      <td>NaN</td>\n",
       "      <td>NaN</td>\n",
       "      <td>NaN</td>\n",
       "      <td>NaN</td>\n",
       "      <td>NaN</td>\n",
       "      <td>NaN</td>\n",
       "    </tr>\n",
       "    <tr>\n",
       "      <th>...</th>\n",
       "      <td>...</td>\n",
       "      <td>...</td>\n",
       "      <td>...</td>\n",
       "      <td>...</td>\n",
       "      <td>...</td>\n",
       "      <td>...</td>\n",
       "      <td>...</td>\n",
       "      <td>...</td>\n",
       "      <td>...</td>\n",
       "      <td>...</td>\n",
       "      <td>...</td>\n",
       "      <td>...</td>\n",
       "      <td>...</td>\n",
       "      <td>...</td>\n",
       "      <td>...</td>\n",
       "      <td>...</td>\n",
       "      <td>...</td>\n",
       "      <td>...</td>\n",
       "      <td>...</td>\n",
       "      <td>...</td>\n",
       "      <td>...</td>\n",
       "    </tr>\n",
       "    <tr>\n",
       "      <th>185</th>\n",
       "      <td>NaN</td>\n",
       "      <td>NaN</td>\n",
       "      <td>NaN</td>\n",
       "      <td>NaN</td>\n",
       "      <td>NaN</td>\n",
       "      <td>NaN</td>\n",
       "      <td>NaN</td>\n",
       "      <td>NaN</td>\n",
       "      <td>NaN</td>\n",
       "      <td>NaN</td>\n",
       "      <td>...</td>\n",
       "      <td>NaN</td>\n",
       "      <td>NaN</td>\n",
       "      <td>NaN</td>\n",
       "      <td>NaN</td>\n",
       "      <td>NaN</td>\n",
       "      <td>NaN</td>\n",
       "      <td>NaN</td>\n",
       "      <td>NaN</td>\n",
       "      <td>NaN</td>\n",
       "      <td>NaN</td>\n",
       "    </tr>\n",
       "    <tr>\n",
       "      <th>186</th>\n",
       "      <td>NaN</td>\n",
       "      <td>NaN</td>\n",
       "      <td>NaN</td>\n",
       "      <td>NaN</td>\n",
       "      <td>NaN</td>\n",
       "      <td>NaN</td>\n",
       "      <td>NaN</td>\n",
       "      <td>NaN</td>\n",
       "      <td>NaN</td>\n",
       "      <td>NaN</td>\n",
       "      <td>...</td>\n",
       "      <td>NaN</td>\n",
       "      <td>NaN</td>\n",
       "      <td>NaN</td>\n",
       "      <td>NaN</td>\n",
       "      <td>NaN</td>\n",
       "      <td>NaN</td>\n",
       "      <td>NaN</td>\n",
       "      <td>NaN</td>\n",
       "      <td>NaN</td>\n",
       "      <td>NaN</td>\n",
       "    </tr>\n",
       "    <tr>\n",
       "      <th>187</th>\n",
       "      <td>NaN</td>\n",
       "      <td>NaN</td>\n",
       "      <td>NaN</td>\n",
       "      <td>NaN</td>\n",
       "      <td>NaN</td>\n",
       "      <td>NaN</td>\n",
       "      <td>NaN</td>\n",
       "      <td>NaN</td>\n",
       "      <td>NaN</td>\n",
       "      <td>NaN</td>\n",
       "      <td>...</td>\n",
       "      <td>NaN</td>\n",
       "      <td>NaN</td>\n",
       "      <td>NaN</td>\n",
       "      <td>NaN</td>\n",
       "      <td>NaN</td>\n",
       "      <td>NaN</td>\n",
       "      <td>NaN</td>\n",
       "      <td>NaN</td>\n",
       "      <td>NaN</td>\n",
       "      <td>NaN</td>\n",
       "    </tr>\n",
       "    <tr>\n",
       "      <th>188</th>\n",
       "      <td>NaN</td>\n",
       "      <td>NaN</td>\n",
       "      <td>NaN</td>\n",
       "      <td>NaN</td>\n",
       "      <td>NaN</td>\n",
       "      <td>NaN</td>\n",
       "      <td>NaN</td>\n",
       "      <td>NaN</td>\n",
       "      <td>NaN</td>\n",
       "      <td>NaN</td>\n",
       "      <td>...</td>\n",
       "      <td>NaN</td>\n",
       "      <td>NaN</td>\n",
       "      <td>NaN</td>\n",
       "      <td>NaN</td>\n",
       "      <td>NaN</td>\n",
       "      <td>NaN</td>\n",
       "      <td>NaN</td>\n",
       "      <td>NaN</td>\n",
       "      <td>NaN</td>\n",
       "      <td>NaN</td>\n",
       "    </tr>\n",
       "    <tr>\n",
       "      <th>189</th>\n",
       "      <td>NaN</td>\n",
       "      <td>NaN</td>\n",
       "      <td>NaN</td>\n",
       "      <td>NaN</td>\n",
       "      <td>NaN</td>\n",
       "      <td>NaN</td>\n",
       "      <td>NaN</td>\n",
       "      <td>NaN</td>\n",
       "      <td>NaN</td>\n",
       "      <td>NaN</td>\n",
       "      <td>...</td>\n",
       "      <td>NaN</td>\n",
       "      <td>NaN</td>\n",
       "      <td>NaN</td>\n",
       "      <td>NaN</td>\n",
       "      <td>NaN</td>\n",
       "      <td>NaN</td>\n",
       "      <td>NaN</td>\n",
       "      <td>NaN</td>\n",
       "      <td>NaN</td>\n",
       "      <td>NaN</td>\n",
       "    </tr>\n",
       "  </tbody>\n",
       "</table>\n",
       "<p>102 rows × 28 columns</p>\n",
       "</div>"
      ],
      "text/plain": [
       "    Name Type Location  Contact no available? Contact  Photographer name  \\\n",
       "150  NaN  NaN      NaN                    NaN      NaN               NaN   \n",
       "151  NaN  NaN      NaN                    NaN      NaN               NaN   \n",
       "153  NaN  NaN      NaN                    NaN      NaN               NaN   \n",
       "126  NaN  NaN      NaN                    NaN      NaN               NaN   \n",
       "125  NaN  NaN      NaN                    NaN      NaN               NaN   \n",
       "..   ...  ...      ...                    ...      ...               ...   \n",
       "185  NaN  NaN      NaN                    NaN      NaN               NaN   \n",
       "186  NaN  NaN      NaN                    NaN      NaN               NaN   \n",
       "187  NaN  NaN      NaN                    NaN      NaN               NaN   \n",
       "188  NaN  NaN      NaN                    NaN      NaN               NaN   \n",
       "189  NaN  NaN      NaN                    NaN      NaN               NaN   \n",
       "\n",
       "    comment Email ID Employees in studio Monthly orders  ... Email id Contact  \\\n",
       "150     NaN      NaN                 NaN            NaN  ...      NaN     NaN   \n",
       "151     NaN      NaN                 NaN            NaN  ...      NaN     NaN   \n",
       "153     NaN      NaN                 NaN            NaN  ...      NaN     NaN   \n",
       "126     NaN      NaN                 NaN            NaN  ...      NaN     NaN   \n",
       "125     NaN      NaN                 NaN            NaN  ...      NaN     NaN   \n",
       "..      ...      ...                 ...            ...  ...      ...     ...   \n",
       "185     NaN      NaN                 NaN            NaN  ...      NaN     NaN   \n",
       "186     NaN      NaN                 NaN            NaN  ...      NaN     NaN   \n",
       "187     NaN      NaN                 NaN            NaN  ...      NaN     NaN   \n",
       "188     NaN      NaN                 NaN            NaN  ...      NaN     NaN   \n",
       "189     NaN      NaN                 NaN            NaN  ...      NaN     NaN   \n",
       "\n",
       "    Website Internet Contact number avilable? Contact is available? Comment  \\\n",
       "150     NaN      NaN                      NaN                   NaN     NaN   \n",
       "151     NaN      NaN                      NaN                   NaN     NaN   \n",
       "153     NaN      NaN                      NaN                   NaN     NaN   \n",
       "126     NaN      NaN                      NaN                   NaN     NaN   \n",
       "125     NaN      NaN                      NaN                   NaN     NaN   \n",
       "..      ...      ...                      ...                   ...     ...   \n",
       "185     NaN      NaN                      NaN                   NaN     NaN   \n",
       "186     NaN      NaN                      NaN                   NaN     NaN   \n",
       "187     NaN      NaN                      NaN                   NaN     NaN   \n",
       "188     NaN      NaN                      NaN                   NaN     NaN   \n",
       "189     NaN      NaN                      NaN                   NaN     NaN   \n",
       "\n",
       "    Unnamed: 19 Unnamed: 7 Unnamed: 0  \n",
       "150         NaN        NaN        NaN  \n",
       "151         NaN        NaN        NaN  \n",
       "153         NaN        NaN        NaN  \n",
       "126         NaN        NaN        NaN  \n",
       "125         NaN        NaN        NaN  \n",
       "..          ...        ...        ...  \n",
       "185         NaN        NaN        NaN  \n",
       "186         NaN        NaN        NaN  \n",
       "187         NaN        NaN        NaN  \n",
       "188         NaN        NaN        NaN  \n",
       "189         NaN        NaN        NaN  \n",
       "\n",
       "[102 rows x 28 columns]"
      ]
     },
     "execution_count": 10,
     "metadata": {},
     "output_type": "execute_result"
    }
   ],
   "source": [
    "tier1_data[tier1_data.duplicated()]"
   ]
  },
  {
   "cell_type": "markdown",
   "id": "a9d7a0ab",
   "metadata": {},
   "source": [
    "## Dropping the rows containing all null values"
   ]
  },
  {
   "cell_type": "code",
   "execution_count": 11,
   "id": "e537ad55",
   "metadata": {},
   "outputs": [],
   "source": [
    "tier1_data.dropna(axis=0,how='all',inplace=True)"
   ]
  },
  {
   "cell_type": "markdown",
   "id": "0ddf659d",
   "metadata": {},
   "source": [
    "## Dropping duplicate values"
   ]
  },
  {
   "cell_type": "code",
   "execution_count": 12,
   "id": "7b47f40e",
   "metadata": {},
   "outputs": [],
   "source": [
    "tier1_data.drop_duplicates(inplace=True)"
   ]
  },
  {
   "cell_type": "markdown",
   "id": "ebed4084",
   "metadata": {},
   "source": [
    "## Removing unnecessary unnamed columns"
   ]
  },
  {
   "cell_type": "code",
   "execution_count": 13,
   "id": "706a7ee0",
   "metadata": {},
   "outputs": [],
   "source": [
    "tier1_data.drop(columns=['Unnamed: 19','Unnamed: 7','Unnamed: 0'],inplace=True)"
   ]
  },
  {
   "cell_type": "markdown",
   "id": "a7188ad7",
   "metadata": {},
   "source": [
    "## Determining percentage of null values of each column in the dataset"
   ]
  },
  {
   "cell_type": "code",
   "execution_count": 14,
   "id": "1111a64f",
   "metadata": {},
   "outputs": [
    {
     "name": "stdout",
     "output_type": "stream",
     "text": [
      "Percentage of null values in Name: 14.2 %\n",
      "Percentage of null values in Type: 0.5 %\n",
      "Percentage of null values in Location: 0.92 %\n",
      "Percentage of null values in Contact no available?: 40.25 %\n",
      "Percentage of null values in Contact : 87.56 %\n",
      "Percentage of null values in Photographer name: 77.73 %\n",
      "Percentage of null values in comment: 24.45 %\n",
      "Percentage of null values in Email ID: 96.05 %\n",
      "Percentage of null values in Employees in studio: 81.68 %\n",
      "Percentage of null values in Monthly orders: 82.69 %\n",
      "Percentage of null values in Problems : 92.1 %\n",
      "Percentage of null values in Internet (Brand): 84.45 %\n",
      "Percentage of null values in Internet (Speed): 86.64 %\n",
      "Percentage of null values in Internet (Monthly Cost): 88.66 %\n",
      "Percentage of null values in Which cloud storage they use: 85.63 %\n",
      "Percentage of null values in How they do photo selection: 84.03 %\n",
      "Percentage of null values in Provides E-book? : 83.36 %\n",
      "Percentage of null values in Album designing(Own?): 82.86 %\n",
      "Percentage of null values in Email id: 96.13 %\n",
      "Percentage of null values in Contact: 12.77 %\n",
      "Percentage of null values in Website: 32.77 %\n",
      "Percentage of null values in Internet: 12.44 %\n",
      "Percentage of null values in Contact number avilable?: 89.41 %\n",
      "Percentage of null values in Contact is available?: 70.76 %\n",
      "Percentage of null values in Comment: 91.85 %\n"
     ]
    }
   ],
   "source": [
    "for col in tier1_data.columns:\n",
    "    print(\"Percentage of null values in {}:\".format(col),np.round(tier1_data[col].isnull().sum()/len(tier1_data[col])*100,2),'%')"
   ]
  },
  {
   "cell_type": "markdown",
   "id": "b60a631d",
   "metadata": {},
   "source": [
    "## Filtering the Email ID column"
   ]
  },
  {
   "cell_type": "code",
   "execution_count": 15,
   "id": "95819e5f",
   "metadata": {},
   "outputs": [],
   "source": [
    "tier1_data = tier1_data[tier1_data['Email ID']!=\"Don't have mail Id\"]"
   ]
  },
  {
   "cell_type": "markdown",
   "id": "fb353e34",
   "metadata": {},
   "source": [
    "## Dropping \"Contact number available?\" and \"Contact is available?\" columns because of two reasons: \n",
    "1. Both of them are almost identical to the column \"Contact no available?\". \n",
    "2. Majority of their values are null."
   ]
  },
  {
   "cell_type": "code",
   "execution_count": 16,
   "id": "a648ce7f",
   "metadata": {},
   "outputs": [],
   "source": [
    "tier1_data.drop(columns=['Contact number avilable?','Contact is available?'],inplace=True)"
   ]
  },
  {
   "cell_type": "markdown",
   "id": "52c8a325",
   "metadata": {},
   "source": [
    "## Eliminating \"Email id\" column as it is almost similar to \"Email ID\" column and it also has a lot of null values i.e. 96.13%."
   ]
  },
  {
   "cell_type": "markdown",
   "id": "046099b9",
   "metadata": {},
   "source": [
    "## Apart from it, there is a duplicate 'Comment' column as well which needs to be dropped."
   ]
  },
  {
   "cell_type": "markdown",
   "id": "2e6ec146",
   "metadata": {},
   "source": [
    "## Dropping \"Website\" column as it is not needed from the context of my analysis."
   ]
  },
  {
   "cell_type": "code",
   "execution_count": 17,
   "id": "3d924b2d",
   "metadata": {},
   "outputs": [],
   "source": [
    "tier1_data.drop(columns=['Email id','Comment','Website'],inplace=True)"
   ]
  },
  {
   "cell_type": "markdown",
   "id": "53798405",
   "metadata": {},
   "source": [
    "## Renaming all the columns in order to give them more appropriate names"
   ]
  },
  {
   "cell_type": "code",
   "execution_count": 18,
   "id": "30c65495",
   "metadata": {},
   "outputs": [],
   "source": [
    "tier1_data.rename(columns={'Contact no available?': 'Contact No. Available', 'Photographer name': \"Photographer's name\", 'comment': 'Comment', 'Contact ': 'Contact', 'Employees in studio': 'No. of Employees', 'Monthly orders': 'Monthly Orders', 'Internet (Brand)': 'Internet Brand', 'Internet (Speed)': 'Internet Speed', 'Internet (Monthly Cost)': 'Internet Monthly Cost', 'Which cloud storage they use': 'Cloud Storage Used', 'How they do photo selection': 'Photo Selection Method', 'Provides E-book? ': 'E-Book', 'Album designing(Own?)': 'Album Designing'},inplace=True)"
   ]
  },
  {
   "cell_type": "markdown",
   "id": "d20f07a4",
   "metadata": {},
   "source": [
    "## There is a duplicate Contact column which needs to be removed."
   ]
  },
  {
   "cell_type": "markdown",
   "id": "71b8b513",
   "metadata": {},
   "source": [
    "## Data Transformation(As part of data preprocessing)"
   ]
  },
  {
   "cell_type": "markdown",
   "id": "6937da65",
   "metadata": {},
   "source": [
    "### Album Designing"
   ]
  },
  {
   "cell_type": "code",
   "execution_count": 32,
   "id": "982a6abe",
   "metadata": {},
   "outputs": [],
   "source": [
    "tier1_data['Album Designing'].replace(['yes','Yes','3rd party','3rd Party','self','yes.','customer based','Own','outsourse','depends on work load','album sense software','partner','3rd Party user','YES','care.grandsstudio@gmail.com','own','with the help of photoshop','manually','yes photoshop','own designing','optinal','yes has a designer','sometiimes','yes party based','outsource','Outsource','3rd party '],1,inplace=True)\n",
    "tier1_data['Album Designing'].replace(['no','no ','No','-','no 3rd party','no album included',\"Don't provide album\",'no(for album designing 3rd party)'],0,inplace=True)"
   ]
  },
  {
   "cell_type": "code",
   "execution_count": 33,
   "id": "b6674060",
   "metadata": {},
   "outputs": [
    {
     "data": {
      "text/plain": [
       "yes                                  123\n",
       "no                                    26\n",
       "No                                     9\n",
       "Yes                                    5\n",
       "3rd party                              4\n",
       "3rd Party                              3\n",
       "self                                   3\n",
       "yes.                                   2\n",
       "Own                                    2\n",
       "no(for album designing 3rd party)      1\n",
       "outsourse                              1\n",
       "album sense software                   1\n",
       "partner                                1\n",
       "3rd Party user                         1\n",
       "YES                                    1\n",
       "care.grandsstudio@gmail.com            1\n",
       "own                                    1\n",
       "Don't provide album                    1\n",
       "with the help of photoshop             1\n",
       "manually                               1\n",
       "no album included                      1\n",
       "yes photoshop                          1\n",
       "own designing                          1\n",
       "optinal                                1\n",
       "yes has a designer                     1\n",
       "depends on work load                   1\n",
       "sometiimes                             1\n",
       "yes party based                        1\n",
       "customer based                         1\n",
       "outsource                              1\n",
       "Outsource                              1\n",
       "no 3rd party                           1\n",
       "-                                      1\n",
       "3rd party                              1\n",
       "Name: Album Designing, dtype: int64"
      ]
     },
     "execution_count": 33,
     "metadata": {},
     "output_type": "execute_result"
    }
   ],
   "source": [
    "tier1_data['Album Designing'].value_counts()"
   ]
  },
  {
   "cell_type": "code",
   "execution_count": 34,
   "id": "d9b12032",
   "metadata": {},
   "outputs": [
    {
     "ename": "ValueError",
     "evalue": "could not convert string to float: 'no'",
     "output_type": "error",
     "traceback": [
      "\u001b[1;31m---------------------------------------------------------------------------\u001b[0m",
      "\u001b[1;31mValueError\u001b[0m                                Traceback (most recent call last)",
      "\u001b[1;32m<ipython-input-34-47f8abe8a020>\u001b[0m in \u001b[0;36m<module>\u001b[1;34m\u001b[0m\n\u001b[1;32m----> 1\u001b[1;33m \u001b[0mtier1_data\u001b[0m\u001b[1;33m[\u001b[0m\u001b[1;34m'Album Designing'\u001b[0m\u001b[1;33m]\u001b[0m \u001b[1;33m=\u001b[0m \u001b[0mtier1_data\u001b[0m\u001b[1;33m[\u001b[0m\u001b[1;34m'Album Designing'\u001b[0m\u001b[1;33m]\u001b[0m\u001b[1;33m.\u001b[0m\u001b[0mastype\u001b[0m\u001b[1;33m(\u001b[0m\u001b[0mnp\u001b[0m\u001b[1;33m.\u001b[0m\u001b[0mfloat64\u001b[0m\u001b[1;33m)\u001b[0m\u001b[1;33m\u001b[0m\u001b[1;33m\u001b[0m\u001b[0m\n\u001b[0m",
      "\u001b[1;32m~\\anaconda3\\lib\\site-packages\\pandas\\core\\generic.py\u001b[0m in \u001b[0;36mastype\u001b[1;34m(self, dtype, copy, errors)\u001b[0m\n\u001b[0;32m   5813\u001b[0m         \u001b[1;32melse\u001b[0m\u001b[1;33m:\u001b[0m\u001b[1;33m\u001b[0m\u001b[1;33m\u001b[0m\u001b[0m\n\u001b[0;32m   5814\u001b[0m             \u001b[1;31m# else, only a single dtype is given\u001b[0m\u001b[1;33m\u001b[0m\u001b[1;33m\u001b[0m\u001b[1;33m\u001b[0m\u001b[0m\n\u001b[1;32m-> 5815\u001b[1;33m             \u001b[0mnew_data\u001b[0m \u001b[1;33m=\u001b[0m \u001b[0mself\u001b[0m\u001b[1;33m.\u001b[0m\u001b[0m_mgr\u001b[0m\u001b[1;33m.\u001b[0m\u001b[0mastype\u001b[0m\u001b[1;33m(\u001b[0m\u001b[0mdtype\u001b[0m\u001b[1;33m=\u001b[0m\u001b[0mdtype\u001b[0m\u001b[1;33m,\u001b[0m \u001b[0mcopy\u001b[0m\u001b[1;33m=\u001b[0m\u001b[0mcopy\u001b[0m\u001b[1;33m,\u001b[0m \u001b[0merrors\u001b[0m\u001b[1;33m=\u001b[0m\u001b[0merrors\u001b[0m\u001b[1;33m)\u001b[0m\u001b[1;33m\u001b[0m\u001b[1;33m\u001b[0m\u001b[0m\n\u001b[0m\u001b[0;32m   5816\u001b[0m             \u001b[1;32mreturn\u001b[0m \u001b[0mself\u001b[0m\u001b[1;33m.\u001b[0m\u001b[0m_constructor\u001b[0m\u001b[1;33m(\u001b[0m\u001b[0mnew_data\u001b[0m\u001b[1;33m)\u001b[0m\u001b[1;33m.\u001b[0m\u001b[0m__finalize__\u001b[0m\u001b[1;33m(\u001b[0m\u001b[0mself\u001b[0m\u001b[1;33m,\u001b[0m \u001b[0mmethod\u001b[0m\u001b[1;33m=\u001b[0m\u001b[1;34m\"astype\"\u001b[0m\u001b[1;33m)\u001b[0m\u001b[1;33m\u001b[0m\u001b[1;33m\u001b[0m\u001b[0m\n\u001b[0;32m   5817\u001b[0m \u001b[1;33m\u001b[0m\u001b[0m\n",
      "\u001b[1;32m~\\anaconda3\\lib\\site-packages\\pandas\\core\\internals\\managers.py\u001b[0m in \u001b[0;36mastype\u001b[1;34m(self, dtype, copy, errors)\u001b[0m\n\u001b[0;32m    416\u001b[0m \u001b[1;33m\u001b[0m\u001b[0m\n\u001b[0;32m    417\u001b[0m     \u001b[1;32mdef\u001b[0m \u001b[0mastype\u001b[0m\u001b[1;33m(\u001b[0m\u001b[0mself\u001b[0m\u001b[1;33m:\u001b[0m \u001b[0mT\u001b[0m\u001b[1;33m,\u001b[0m \u001b[0mdtype\u001b[0m\u001b[1;33m,\u001b[0m \u001b[0mcopy\u001b[0m\u001b[1;33m:\u001b[0m \u001b[0mbool\u001b[0m \u001b[1;33m=\u001b[0m \u001b[1;32mFalse\u001b[0m\u001b[1;33m,\u001b[0m \u001b[0merrors\u001b[0m\u001b[1;33m:\u001b[0m \u001b[0mstr\u001b[0m \u001b[1;33m=\u001b[0m \u001b[1;34m\"raise\"\u001b[0m\u001b[1;33m)\u001b[0m \u001b[1;33m->\u001b[0m \u001b[0mT\u001b[0m\u001b[1;33m:\u001b[0m\u001b[1;33m\u001b[0m\u001b[1;33m\u001b[0m\u001b[0m\n\u001b[1;32m--> 418\u001b[1;33m         \u001b[1;32mreturn\u001b[0m \u001b[0mself\u001b[0m\u001b[1;33m.\u001b[0m\u001b[0mapply\u001b[0m\u001b[1;33m(\u001b[0m\u001b[1;34m\"astype\"\u001b[0m\u001b[1;33m,\u001b[0m \u001b[0mdtype\u001b[0m\u001b[1;33m=\u001b[0m\u001b[0mdtype\u001b[0m\u001b[1;33m,\u001b[0m \u001b[0mcopy\u001b[0m\u001b[1;33m=\u001b[0m\u001b[0mcopy\u001b[0m\u001b[1;33m,\u001b[0m \u001b[0merrors\u001b[0m\u001b[1;33m=\u001b[0m\u001b[0merrors\u001b[0m\u001b[1;33m)\u001b[0m\u001b[1;33m\u001b[0m\u001b[1;33m\u001b[0m\u001b[0m\n\u001b[0m\u001b[0;32m    419\u001b[0m \u001b[1;33m\u001b[0m\u001b[0m\n\u001b[0;32m    420\u001b[0m     def convert(\n",
      "\u001b[1;32m~\\anaconda3\\lib\\site-packages\\pandas\\core\\internals\\managers.py\u001b[0m in \u001b[0;36mapply\u001b[1;34m(self, f, align_keys, ignore_failures, **kwargs)\u001b[0m\n\u001b[0;32m    325\u001b[0m                     \u001b[0mapplied\u001b[0m \u001b[1;33m=\u001b[0m \u001b[0mb\u001b[0m\u001b[1;33m.\u001b[0m\u001b[0mapply\u001b[0m\u001b[1;33m(\u001b[0m\u001b[0mf\u001b[0m\u001b[1;33m,\u001b[0m \u001b[1;33m**\u001b[0m\u001b[0mkwargs\u001b[0m\u001b[1;33m)\u001b[0m\u001b[1;33m\u001b[0m\u001b[1;33m\u001b[0m\u001b[0m\n\u001b[0;32m    326\u001b[0m                 \u001b[1;32melse\u001b[0m\u001b[1;33m:\u001b[0m\u001b[1;33m\u001b[0m\u001b[1;33m\u001b[0m\u001b[0m\n\u001b[1;32m--> 327\u001b[1;33m                     \u001b[0mapplied\u001b[0m \u001b[1;33m=\u001b[0m \u001b[0mgetattr\u001b[0m\u001b[1;33m(\u001b[0m\u001b[0mb\u001b[0m\u001b[1;33m,\u001b[0m \u001b[0mf\u001b[0m\u001b[1;33m)\u001b[0m\u001b[1;33m(\u001b[0m\u001b[1;33m**\u001b[0m\u001b[0mkwargs\u001b[0m\u001b[1;33m)\u001b[0m\u001b[1;33m\u001b[0m\u001b[1;33m\u001b[0m\u001b[0m\n\u001b[0m\u001b[0;32m    328\u001b[0m             \u001b[1;32mexcept\u001b[0m \u001b[1;33m(\u001b[0m\u001b[0mTypeError\u001b[0m\u001b[1;33m,\u001b[0m \u001b[0mNotImplementedError\u001b[0m\u001b[1;33m)\u001b[0m\u001b[1;33m:\u001b[0m\u001b[1;33m\u001b[0m\u001b[1;33m\u001b[0m\u001b[0m\n\u001b[0;32m    329\u001b[0m                 \u001b[1;32mif\u001b[0m \u001b[1;32mnot\u001b[0m \u001b[0mignore_failures\u001b[0m\u001b[1;33m:\u001b[0m\u001b[1;33m\u001b[0m\u001b[1;33m\u001b[0m\u001b[0m\n",
      "\u001b[1;32m~\\anaconda3\\lib\\site-packages\\pandas\\core\\internals\\blocks.py\u001b[0m in \u001b[0;36mastype\u001b[1;34m(self, dtype, copy, errors)\u001b[0m\n\u001b[0;32m    590\u001b[0m         \u001b[0mvalues\u001b[0m \u001b[1;33m=\u001b[0m \u001b[0mself\u001b[0m\u001b[1;33m.\u001b[0m\u001b[0mvalues\u001b[0m\u001b[1;33m\u001b[0m\u001b[1;33m\u001b[0m\u001b[0m\n\u001b[0;32m    591\u001b[0m \u001b[1;33m\u001b[0m\u001b[0m\n\u001b[1;32m--> 592\u001b[1;33m         \u001b[0mnew_values\u001b[0m \u001b[1;33m=\u001b[0m \u001b[0mastype_array_safe\u001b[0m\u001b[1;33m(\u001b[0m\u001b[0mvalues\u001b[0m\u001b[1;33m,\u001b[0m \u001b[0mdtype\u001b[0m\u001b[1;33m,\u001b[0m \u001b[0mcopy\u001b[0m\u001b[1;33m=\u001b[0m\u001b[0mcopy\u001b[0m\u001b[1;33m,\u001b[0m \u001b[0merrors\u001b[0m\u001b[1;33m=\u001b[0m\u001b[0merrors\u001b[0m\u001b[1;33m)\u001b[0m\u001b[1;33m\u001b[0m\u001b[1;33m\u001b[0m\u001b[0m\n\u001b[0m\u001b[0;32m    593\u001b[0m \u001b[1;33m\u001b[0m\u001b[0m\n\u001b[0;32m    594\u001b[0m         \u001b[0mnew_values\u001b[0m \u001b[1;33m=\u001b[0m \u001b[0mmaybe_coerce_values\u001b[0m\u001b[1;33m(\u001b[0m\u001b[0mnew_values\u001b[0m\u001b[1;33m)\u001b[0m\u001b[1;33m\u001b[0m\u001b[1;33m\u001b[0m\u001b[0m\n",
      "\u001b[1;32m~\\anaconda3\\lib\\site-packages\\pandas\\core\\dtypes\\cast.py\u001b[0m in \u001b[0;36mastype_array_safe\u001b[1;34m(values, dtype, copy, errors)\u001b[0m\n\u001b[0;32m   1307\u001b[0m \u001b[1;33m\u001b[0m\u001b[0m\n\u001b[0;32m   1308\u001b[0m     \u001b[1;32mtry\u001b[0m\u001b[1;33m:\u001b[0m\u001b[1;33m\u001b[0m\u001b[1;33m\u001b[0m\u001b[0m\n\u001b[1;32m-> 1309\u001b[1;33m         \u001b[0mnew_values\u001b[0m \u001b[1;33m=\u001b[0m \u001b[0mastype_array\u001b[0m\u001b[1;33m(\u001b[0m\u001b[0mvalues\u001b[0m\u001b[1;33m,\u001b[0m \u001b[0mdtype\u001b[0m\u001b[1;33m,\u001b[0m \u001b[0mcopy\u001b[0m\u001b[1;33m=\u001b[0m\u001b[0mcopy\u001b[0m\u001b[1;33m)\u001b[0m\u001b[1;33m\u001b[0m\u001b[1;33m\u001b[0m\u001b[0m\n\u001b[0m\u001b[0;32m   1310\u001b[0m     \u001b[1;32mexcept\u001b[0m \u001b[1;33m(\u001b[0m\u001b[0mValueError\u001b[0m\u001b[1;33m,\u001b[0m \u001b[0mTypeError\u001b[0m\u001b[1;33m)\u001b[0m\u001b[1;33m:\u001b[0m\u001b[1;33m\u001b[0m\u001b[1;33m\u001b[0m\u001b[0m\n\u001b[0;32m   1311\u001b[0m         \u001b[1;31m# e.g. astype_nansafe can fail on object-dtype of strings\u001b[0m\u001b[1;33m\u001b[0m\u001b[1;33m\u001b[0m\u001b[1;33m\u001b[0m\u001b[0m\n",
      "\u001b[1;32m~\\anaconda3\\lib\\site-packages\\pandas\\core\\dtypes\\cast.py\u001b[0m in \u001b[0;36mastype_array\u001b[1;34m(values, dtype, copy)\u001b[0m\n\u001b[0;32m   1255\u001b[0m \u001b[1;33m\u001b[0m\u001b[0m\n\u001b[0;32m   1256\u001b[0m     \u001b[1;32melse\u001b[0m\u001b[1;33m:\u001b[0m\u001b[1;33m\u001b[0m\u001b[1;33m\u001b[0m\u001b[0m\n\u001b[1;32m-> 1257\u001b[1;33m         \u001b[0mvalues\u001b[0m \u001b[1;33m=\u001b[0m \u001b[0mastype_nansafe\u001b[0m\u001b[1;33m(\u001b[0m\u001b[0mvalues\u001b[0m\u001b[1;33m,\u001b[0m \u001b[0mdtype\u001b[0m\u001b[1;33m,\u001b[0m \u001b[0mcopy\u001b[0m\u001b[1;33m=\u001b[0m\u001b[0mcopy\u001b[0m\u001b[1;33m)\u001b[0m\u001b[1;33m\u001b[0m\u001b[1;33m\u001b[0m\u001b[0m\n\u001b[0m\u001b[0;32m   1258\u001b[0m \u001b[1;33m\u001b[0m\u001b[0m\n\u001b[0;32m   1259\u001b[0m     \u001b[1;31m# in pandas we don't store numpy str dtypes, so convert to object\u001b[0m\u001b[1;33m\u001b[0m\u001b[1;33m\u001b[0m\u001b[1;33m\u001b[0m\u001b[0m\n",
      "\u001b[1;32m~\\anaconda3\\lib\\site-packages\\pandas\\core\\dtypes\\cast.py\u001b[0m in \u001b[0;36mastype_nansafe\u001b[1;34m(arr, dtype, copy, skipna)\u001b[0m\n\u001b[0;32m   1199\u001b[0m     \u001b[1;32mif\u001b[0m \u001b[0mcopy\u001b[0m \u001b[1;32mor\u001b[0m \u001b[0mis_object_dtype\u001b[0m\u001b[1;33m(\u001b[0m\u001b[0marr\u001b[0m\u001b[1;33m.\u001b[0m\u001b[0mdtype\u001b[0m\u001b[1;33m)\u001b[0m \u001b[1;32mor\u001b[0m \u001b[0mis_object_dtype\u001b[0m\u001b[1;33m(\u001b[0m\u001b[0mdtype\u001b[0m\u001b[1;33m)\u001b[0m\u001b[1;33m:\u001b[0m\u001b[1;33m\u001b[0m\u001b[1;33m\u001b[0m\u001b[0m\n\u001b[0;32m   1200\u001b[0m         \u001b[1;31m# Explicit copy, or required since NumPy can't view from / to object.\u001b[0m\u001b[1;33m\u001b[0m\u001b[1;33m\u001b[0m\u001b[1;33m\u001b[0m\u001b[0m\n\u001b[1;32m-> 1201\u001b[1;33m         \u001b[1;32mreturn\u001b[0m \u001b[0marr\u001b[0m\u001b[1;33m.\u001b[0m\u001b[0mastype\u001b[0m\u001b[1;33m(\u001b[0m\u001b[0mdtype\u001b[0m\u001b[1;33m,\u001b[0m \u001b[0mcopy\u001b[0m\u001b[1;33m=\u001b[0m\u001b[1;32mTrue\u001b[0m\u001b[1;33m)\u001b[0m\u001b[1;33m\u001b[0m\u001b[1;33m\u001b[0m\u001b[0m\n\u001b[0m\u001b[0;32m   1202\u001b[0m \u001b[1;33m\u001b[0m\u001b[0m\n\u001b[0;32m   1203\u001b[0m     \u001b[1;32mreturn\u001b[0m \u001b[0marr\u001b[0m\u001b[1;33m.\u001b[0m\u001b[0mastype\u001b[0m\u001b[1;33m(\u001b[0m\u001b[0mdtype\u001b[0m\u001b[1;33m,\u001b[0m \u001b[0mcopy\u001b[0m\u001b[1;33m=\u001b[0m\u001b[0mcopy\u001b[0m\u001b[1;33m)\u001b[0m\u001b[1;33m\u001b[0m\u001b[1;33m\u001b[0m\u001b[0m\n",
      "\u001b[1;31mValueError\u001b[0m: could not convert string to float: 'no'"
     ]
    }
   ],
   "source": [
    "tier1_data['Album Designing'] = tier1_data['Album Designing'].astype(np.float64)"
   ]
  },
  {
   "cell_type": "markdown",
   "id": "3cd0c49a",
   "metadata": {},
   "source": [
    "## E-Book"
   ]
  },
  {
   "cell_type": "code",
   "execution_count": 38,
   "id": "a916a9cd",
   "metadata": {},
   "outputs": [
    {
     "data": {
      "text/plain": [
       "no                     75\n",
       "yes                    74\n",
       "No                     21\n",
       "client specific         7\n",
       "no                      4\n",
       "Yes                     4\n",
       "depends on customer     2\n",
       "yes                     1\n",
       "Complementary           1\n",
       "-                       1\n",
       "link sharing            1\n",
       "NO                      1\n",
       "Depends on customer     1\n",
       "not                     1\n",
       "canberra                1\n",
       "depends                 1\n",
       "Name: E-Book, dtype: int64"
      ]
     },
     "execution_count": 38,
     "metadata": {},
     "output_type": "execute_result"
    }
   ],
   "source": [
    "tier1_data['E-Book'].replace(['yes','client specific','Yes','depends on customer','yes ','Complementary','link sharing','Depends on customer','canberra ','depends'],1,inplace=True)\n",
    "tier1_data['E-Book'].replace(['no','no ','No','-','NO','not '],0,inplace=True)\n",
    "tier1_data['E-Book'].value_counts()"
   ]
  },
  {
   "cell_type": "code",
   "execution_count": null,
   "id": "b22a8849",
   "metadata": {},
   "outputs": [],
   "source": [
    "tier1_data['E-Book'] = tier1_data['E-Book'].astype(np.float64)"
   ]
  },
  {
   "cell_type": "markdown",
   "id": "eb20b58d",
   "metadata": {},
   "source": [
    "## Internet"
   ]
  },
  {
   "cell_type": "code",
   "execution_count": 39,
   "id": "980dc6e8",
   "metadata": {},
   "outputs": [
    {
     "data": {
      "text/plain": [
       "1.0    797\n",
       "0.0    239\n",
       "Name: Internet, dtype: int64"
      ]
     },
     "execution_count": 39,
     "metadata": {},
     "output_type": "execute_result"
    }
   ],
   "source": [
    "tier1_data = tier1_data[(tier1_data['Internet']==1.0)|(tier1_data['Internet']==0.0)]\n",
    "tier1_data['Internet'].value_counts()"
   ]
  },
  {
   "cell_type": "code",
   "execution_count": 40,
   "id": "b59a622d",
   "metadata": {},
   "outputs": [],
   "source": [
    "tier1_data['Internet'] = tier1_data['Internet'].astype(np.float64)"
   ]
  },
  {
   "cell_type": "markdown",
   "id": "801df251",
   "metadata": {},
   "source": [
    "## Cloud Storage Used"
   ]
  },
  {
   "cell_type": "code",
   "execution_count": 41,
   "id": "6540aeed",
   "metadata": {},
   "outputs": [],
   "source": [
    "tier1_data['Cloud Storage Used'].replace(to_replace=['g drive','google drive','Google drive','Google Drive','google','Google','g drive,','g drive ','google photos','G drive','gdrive, '],value='Google Drive',inplace=True)\n",
    "tier1_data['Cloud Storage Used'].replace(to_replace='pendrive',value='Pendrive',inplace=True)\n",
    "tier1_data['Cloud Storage Used'].replace(to_replace=['HDD','harddisk','hard disk','hard drive'],value='Hard Disk Drive',inplace=True)\n",
    "tier1_data['Cloud Storage Used'].replace(to_replace=['own storage','computer memory','own'],value='Own Storage',inplace=True)\n",
    "tier1_data['Cloud Storage Used'].replace(to_replace=['no','-','offline work','No','no cloud','no drive'],value='Not Used',inplace=True)\n",
    "tier1_data['Cloud Storage Used'].replace(to_replace=['drive',\"didn’t mention\",'4500-5000 yearly','varies on top-up','not constant','5000 yearly','yearly 6000','yearly 4000','2000-2500'],value='Unknown',inplace=True)\n",
    "tier1_data['Cloud Storage Used'].replace(to_replace=['cards','sd cards','card'],value='SD Cards',inplace=True)\n",
    "tier1_data['Cloud Storage Used'].replace(to_replace=['drop box','Drop box'],value='Drop Box',inplace=True)\n",
    "tier1_data['Cloud Storage Used'].replace(to_replace=['onedrive','one drive'],value='One Drive',inplace=True)\n",
    "tier1_data['Cloud Storage Used'].replace(to_replace='My air bridge',value='My Air Bridge',inplace=True)\n",
    "tier1_data['Cloud Storage Used'].replace(to_replace='v transfer',value='WeTransfer',inplace=True)\n",
    "tier1_data['Cloud Storage Used'].replace(to_replace=['icloud','iCloud'],value='iCloud',inplace=True)\n",
    "tier1_data['Cloud Storage Used'].replace(to_replace='google drive and icloud',value='Google Drive and iCloud',inplace=True)\n",
    "tier1_data['Cloud Storage Used'].replace(to_replace=['g drive,onedrive','g drive & one drive','g drive, onedrive','onedrive, g drive'],value='Google Drive and One Drive',inplace=True)\n",
    "tier1_data['Cloud Storage Used'].replace(to_replace='pendrive, Google drive',value='Pendrive and Google Drive',inplace=True)\n",
    "tier1_data['Cloud Storage Used'].replace(to_replace='gdrive, onedrive nd icloud',value='Google Drive, One Drive and iCloud',inplace=True)"
   ]
  },
  {
   "cell_type": "code",
   "execution_count": 43,
   "id": "87fbb7ad",
   "metadata": {},
   "outputs": [
    {
     "data": {
      "text/plain": [
       "pendrive        19\n",
       "g drive         17\n",
       "no              11\n",
       "google drive     9\n",
       "HDD              8\n",
       "Name: Cloud Storage Used, dtype: int64"
      ]
     },
     "execution_count": 43,
     "metadata": {},
     "output_type": "execute_result"
    }
   ],
   "source": [
    "tier1_data['Cloud Storage Used'].value_counts().head()"
   ]
  },
  {
   "cell_type": "markdown",
   "id": "39186949",
   "metadata": {},
   "source": [
    "## Number of Employees in Studio"
   ]
  },
  {
   "cell_type": "code",
   "execution_count": 44,
   "id": "1e95269d",
   "metadata": {},
   "outputs": [],
   "source": [
    "tier1_data['No. of Employees'].replace(\"65+\",65,inplace=True)\n",
    "tier1_data['No. of Employees'].replace(\"8-10\",10,inplace=True)\n",
    "tier1_data['No. of Employees'].replace(\"25-30\",30,inplace=True)\n",
    "tier1_data['No. of Employees'].replace('1(solo)',1,inplace=True)\n",
    "tier1_data['No. of Employees'].replace(\"3 to 4\",4,inplace=True)\n",
    "tier1_data['No. of Employees'].replace(\"2(actually gives outside project)\",2,inplace=True)\n",
    "tier1_data['No. of Employees'].replace(['didnt give','freelancer','freelancing','single','alone','higher only freelance','free lancer','freelance','FREELANCER',\"freelancer(assignments)\"],np.nan,inplace=True)"
   ]
  },
  {
   "cell_type": "code",
   "execution_count": 45,
   "id": "1ea8cfaa",
   "metadata": {},
   "outputs": [],
   "source": [
    "def datetime_to_int(dt):\n",
    "    return int(dt.strftime(\"%Y%m%d%H%M%S\"))"
   ]
  },
  {
   "cell_type": "code",
   "execution_count": 46,
   "id": "8b0d3daa",
   "metadata": {},
   "outputs": [],
   "source": [
    "for x in tier1_data['No. of Employees'].values:\n",
    "    if isinstance(x,datetime.datetime):\n",
    "        tier1_data['No. of Employees'].replace(x,datetime_to_int(x),inplace=True)"
   ]
  },
  {
   "cell_type": "code",
   "execution_count": 47,
   "id": "17c9835e",
   "metadata": {},
   "outputs": [
    {
     "data": {
      "text/plain": [
       "2             19\n",
       "didnt give    19\n",
       "4             16\n",
       "10            13\n",
       "3             11\n",
       "Name: No. of Employees, dtype: int64"
      ]
     },
     "execution_count": 47,
     "metadata": {},
     "output_type": "execute_result"
    }
   ],
   "source": [
    "tier1_data['No. of Employees'].value_counts().head()"
   ]
  },
  {
   "cell_type": "markdown",
   "id": "d2d8ddc5",
   "metadata": {},
   "source": [
    "## Monthly Orders"
   ]
  },
  {
   "cell_type": "code",
   "execution_count": 48,
   "id": "9fa01b05",
   "metadata": {},
   "outputs": [],
   "source": [
    "tier1_data['Monthly Orders'].fillna(0,inplace=True)"
   ]
  },
  {
   "cell_type": "code",
   "execution_count": 49,
   "id": "2b055186",
   "metadata": {},
   "outputs": [
    {
     "data": {
      "text/plain": [
       "(1036, 20)"
      ]
     },
     "execution_count": 49,
     "metadata": {},
     "output_type": "execute_result"
    }
   ],
   "source": [
    "tier1_data.shape"
   ]
  },
  {
   "cell_type": "markdown",
   "id": "7bfaaa59",
   "metadata": {},
   "source": [
    "## Internet Speed"
   ]
  },
  {
   "cell_type": "code",
   "execution_count": 63,
   "id": "c9533750",
   "metadata": {},
   "outputs": [],
   "source": [
    "for x in tier1_data['Internet Speed'].dropna().values:\n",
    "    if type(x) == str:\n",
    "        if re.search('\\d+',x) is not None:\n",
    "            tier1_data['Internet Speed'].replace(x,re.search('\\d+',x).group(),inplace=True)"
   ]
  },
  {
   "cell_type": "code",
   "execution_count": 64,
   "id": "416fe471",
   "metadata": {},
   "outputs": [
    {
     "ename": "ValueError",
     "evalue": "could not convert string to float: '1gbps'",
     "output_type": "error",
     "traceback": [
      "\u001b[1;31m---------------------------------------------------------------------------\u001b[0m",
      "\u001b[1;31mValueError\u001b[0m                                Traceback (most recent call last)",
      "\u001b[1;32m<ipython-input-64-40427a66b6c5>\u001b[0m in \u001b[0;36m<module>\u001b[1;34m\u001b[0m\n\u001b[0;32m      1\u001b[0m \u001b[0mtier1_data\u001b[0m \u001b[1;33m=\u001b[0m \u001b[0mtier1_data\u001b[0m\u001b[1;33m[\u001b[0m\u001b[1;33m(\u001b[0m\u001b[0mtier1_data\u001b[0m\u001b[1;33m[\u001b[0m\u001b[1;34m'Internet Speed'\u001b[0m\u001b[1;33m]\u001b[0m\u001b[1;33m!=\u001b[0m\u001b[1;34m\"don’t know\"\u001b[0m\u001b[1;33m)\u001b[0m\u001b[1;33m&\u001b[0m\u001b[1;33m(\u001b[0m\u001b[0mtier1_data\u001b[0m\u001b[1;33m[\u001b[0m\u001b[1;34m'Internet Speed'\u001b[0m\u001b[1;33m]\u001b[0m\u001b[1;33m!=\u001b[0m\u001b[1;34m\"didn’t know\"\u001b[0m\u001b[1;33m)\u001b[0m\u001b[1;33m&\u001b[0m\u001b[1;33m(\u001b[0m\u001b[0mtier1_data\u001b[0m\u001b[1;33m[\u001b[0m\u001b[1;34m'Internet Speed'\u001b[0m\u001b[1;33m]\u001b[0m\u001b[1;33m!=\u001b[0m\u001b[1;34m\"nil\"\u001b[0m\u001b[1;33m)\u001b[0m\u001b[1;33m&\u001b[0m\u001b[1;33m(\u001b[0m\u001b[0mtier1_data\u001b[0m\u001b[1;33m[\u001b[0m\u001b[1;34m'Internet Speed'\u001b[0m\u001b[1;33m]\u001b[0m\u001b[1;33m!=\u001b[0m\u001b[1;34m\"Airtle\"\u001b[0m\u001b[1;33m)\u001b[0m\u001b[1;33m&\u001b[0m\u001b[1;33m(\u001b[0m\u001b[0mtier1_data\u001b[0m\u001b[1;33m[\u001b[0m\u001b[1;34m'Internet Speed'\u001b[0m\u001b[1;33m]\u001b[0m\u001b[1;33m!=\u001b[0m\u001b[1;34m\"GTPL\"\u001b[0m\u001b[1;33m)\u001b[0m\u001b[1;33m&\u001b[0m\u001b[1;33m(\u001b[0m\u001b[0mtier1_data\u001b[0m\u001b[1;33m[\u001b[0m\u001b[1;34m'Internet Speed'\u001b[0m\u001b[1;33m]\u001b[0m\u001b[1;33m!=\u001b[0m\u001b[1;34m'-'\u001b[0m\u001b[1;33m)\u001b[0m\u001b[1;33m&\u001b[0m\u001b[1;33m(\u001b[0m\u001b[0mtier1_data\u001b[0m\u001b[1;33m[\u001b[0m\u001b[1;34m'Internet Speed'\u001b[0m\u001b[1;33m]\u001b[0m\u001b[1;33m!=\u001b[0m\u001b[1;34m\"didn’t tell\"\u001b[0m\u001b[1;33m)\u001b[0m\u001b[1;33m]\u001b[0m\u001b[1;33m\u001b[0m\u001b[1;33m\u001b[0m\u001b[0m\n\u001b[1;32m----> 2\u001b[1;33m \u001b[0mtier1_data\u001b[0m\u001b[1;33m[\u001b[0m\u001b[1;34m'Internet Speed'\u001b[0m\u001b[1;33m]\u001b[0m \u001b[1;33m=\u001b[0m \u001b[0mtier1_data\u001b[0m\u001b[1;33m[\u001b[0m\u001b[1;34m'Internet Speed'\u001b[0m\u001b[1;33m]\u001b[0m\u001b[1;33m.\u001b[0m\u001b[0mastype\u001b[0m\u001b[1;33m(\u001b[0m\u001b[0mnp\u001b[0m\u001b[1;33m.\u001b[0m\u001b[0mfloat64\u001b[0m\u001b[1;33m)\u001b[0m\u001b[1;33m\u001b[0m\u001b[1;33m\u001b[0m\u001b[0m\n\u001b[0m\u001b[0;32m      3\u001b[0m \u001b[0mtier1_data\u001b[0m\u001b[1;33m[\u001b[0m\u001b[1;34m'Internet Speed'\u001b[0m\u001b[1;33m]\u001b[0m\u001b[1;33m.\u001b[0m\u001b[0mvalue_counts\u001b[0m\u001b[1;33m(\u001b[0m\u001b[1;33m)\u001b[0m\u001b[1;33m\u001b[0m\u001b[1;33m\u001b[0m\u001b[0m\n",
      "\u001b[1;32m~\\anaconda3\\lib\\site-packages\\pandas\\core\\generic.py\u001b[0m in \u001b[0;36mastype\u001b[1;34m(self, dtype, copy, errors)\u001b[0m\n\u001b[0;32m   5813\u001b[0m         \u001b[1;32melse\u001b[0m\u001b[1;33m:\u001b[0m\u001b[1;33m\u001b[0m\u001b[1;33m\u001b[0m\u001b[0m\n\u001b[0;32m   5814\u001b[0m             \u001b[1;31m# else, only a single dtype is given\u001b[0m\u001b[1;33m\u001b[0m\u001b[1;33m\u001b[0m\u001b[1;33m\u001b[0m\u001b[0m\n\u001b[1;32m-> 5815\u001b[1;33m             \u001b[0mnew_data\u001b[0m \u001b[1;33m=\u001b[0m \u001b[0mself\u001b[0m\u001b[1;33m.\u001b[0m\u001b[0m_mgr\u001b[0m\u001b[1;33m.\u001b[0m\u001b[0mastype\u001b[0m\u001b[1;33m(\u001b[0m\u001b[0mdtype\u001b[0m\u001b[1;33m=\u001b[0m\u001b[0mdtype\u001b[0m\u001b[1;33m,\u001b[0m \u001b[0mcopy\u001b[0m\u001b[1;33m=\u001b[0m\u001b[0mcopy\u001b[0m\u001b[1;33m,\u001b[0m \u001b[0merrors\u001b[0m\u001b[1;33m=\u001b[0m\u001b[0merrors\u001b[0m\u001b[1;33m)\u001b[0m\u001b[1;33m\u001b[0m\u001b[1;33m\u001b[0m\u001b[0m\n\u001b[0m\u001b[0;32m   5816\u001b[0m             \u001b[1;32mreturn\u001b[0m \u001b[0mself\u001b[0m\u001b[1;33m.\u001b[0m\u001b[0m_constructor\u001b[0m\u001b[1;33m(\u001b[0m\u001b[0mnew_data\u001b[0m\u001b[1;33m)\u001b[0m\u001b[1;33m.\u001b[0m\u001b[0m__finalize__\u001b[0m\u001b[1;33m(\u001b[0m\u001b[0mself\u001b[0m\u001b[1;33m,\u001b[0m \u001b[0mmethod\u001b[0m\u001b[1;33m=\u001b[0m\u001b[1;34m\"astype\"\u001b[0m\u001b[1;33m)\u001b[0m\u001b[1;33m\u001b[0m\u001b[1;33m\u001b[0m\u001b[0m\n\u001b[0;32m   5817\u001b[0m \u001b[1;33m\u001b[0m\u001b[0m\n",
      "\u001b[1;32m~\\anaconda3\\lib\\site-packages\\pandas\\core\\internals\\managers.py\u001b[0m in \u001b[0;36mastype\u001b[1;34m(self, dtype, copy, errors)\u001b[0m\n\u001b[0;32m    416\u001b[0m \u001b[1;33m\u001b[0m\u001b[0m\n\u001b[0;32m    417\u001b[0m     \u001b[1;32mdef\u001b[0m \u001b[0mastype\u001b[0m\u001b[1;33m(\u001b[0m\u001b[0mself\u001b[0m\u001b[1;33m:\u001b[0m \u001b[0mT\u001b[0m\u001b[1;33m,\u001b[0m \u001b[0mdtype\u001b[0m\u001b[1;33m,\u001b[0m \u001b[0mcopy\u001b[0m\u001b[1;33m:\u001b[0m \u001b[0mbool\u001b[0m \u001b[1;33m=\u001b[0m \u001b[1;32mFalse\u001b[0m\u001b[1;33m,\u001b[0m \u001b[0merrors\u001b[0m\u001b[1;33m:\u001b[0m \u001b[0mstr\u001b[0m \u001b[1;33m=\u001b[0m \u001b[1;34m\"raise\"\u001b[0m\u001b[1;33m)\u001b[0m \u001b[1;33m->\u001b[0m \u001b[0mT\u001b[0m\u001b[1;33m:\u001b[0m\u001b[1;33m\u001b[0m\u001b[1;33m\u001b[0m\u001b[0m\n\u001b[1;32m--> 418\u001b[1;33m         \u001b[1;32mreturn\u001b[0m \u001b[0mself\u001b[0m\u001b[1;33m.\u001b[0m\u001b[0mapply\u001b[0m\u001b[1;33m(\u001b[0m\u001b[1;34m\"astype\"\u001b[0m\u001b[1;33m,\u001b[0m \u001b[0mdtype\u001b[0m\u001b[1;33m=\u001b[0m\u001b[0mdtype\u001b[0m\u001b[1;33m,\u001b[0m \u001b[0mcopy\u001b[0m\u001b[1;33m=\u001b[0m\u001b[0mcopy\u001b[0m\u001b[1;33m,\u001b[0m \u001b[0merrors\u001b[0m\u001b[1;33m=\u001b[0m\u001b[0merrors\u001b[0m\u001b[1;33m)\u001b[0m\u001b[1;33m\u001b[0m\u001b[1;33m\u001b[0m\u001b[0m\n\u001b[0m\u001b[0;32m    419\u001b[0m \u001b[1;33m\u001b[0m\u001b[0m\n\u001b[0;32m    420\u001b[0m     def convert(\n",
      "\u001b[1;32m~\\anaconda3\\lib\\site-packages\\pandas\\core\\internals\\managers.py\u001b[0m in \u001b[0;36mapply\u001b[1;34m(self, f, align_keys, ignore_failures, **kwargs)\u001b[0m\n\u001b[0;32m    325\u001b[0m                     \u001b[0mapplied\u001b[0m \u001b[1;33m=\u001b[0m \u001b[0mb\u001b[0m\u001b[1;33m.\u001b[0m\u001b[0mapply\u001b[0m\u001b[1;33m(\u001b[0m\u001b[0mf\u001b[0m\u001b[1;33m,\u001b[0m \u001b[1;33m**\u001b[0m\u001b[0mkwargs\u001b[0m\u001b[1;33m)\u001b[0m\u001b[1;33m\u001b[0m\u001b[1;33m\u001b[0m\u001b[0m\n\u001b[0;32m    326\u001b[0m                 \u001b[1;32melse\u001b[0m\u001b[1;33m:\u001b[0m\u001b[1;33m\u001b[0m\u001b[1;33m\u001b[0m\u001b[0m\n\u001b[1;32m--> 327\u001b[1;33m                     \u001b[0mapplied\u001b[0m \u001b[1;33m=\u001b[0m \u001b[0mgetattr\u001b[0m\u001b[1;33m(\u001b[0m\u001b[0mb\u001b[0m\u001b[1;33m,\u001b[0m \u001b[0mf\u001b[0m\u001b[1;33m)\u001b[0m\u001b[1;33m(\u001b[0m\u001b[1;33m**\u001b[0m\u001b[0mkwargs\u001b[0m\u001b[1;33m)\u001b[0m\u001b[1;33m\u001b[0m\u001b[1;33m\u001b[0m\u001b[0m\n\u001b[0m\u001b[0;32m    328\u001b[0m             \u001b[1;32mexcept\u001b[0m \u001b[1;33m(\u001b[0m\u001b[0mTypeError\u001b[0m\u001b[1;33m,\u001b[0m \u001b[0mNotImplementedError\u001b[0m\u001b[1;33m)\u001b[0m\u001b[1;33m:\u001b[0m\u001b[1;33m\u001b[0m\u001b[1;33m\u001b[0m\u001b[0m\n\u001b[0;32m    329\u001b[0m                 \u001b[1;32mif\u001b[0m \u001b[1;32mnot\u001b[0m \u001b[0mignore_failures\u001b[0m\u001b[1;33m:\u001b[0m\u001b[1;33m\u001b[0m\u001b[1;33m\u001b[0m\u001b[0m\n",
      "\u001b[1;32m~\\anaconda3\\lib\\site-packages\\pandas\\core\\internals\\blocks.py\u001b[0m in \u001b[0;36mastype\u001b[1;34m(self, dtype, copy, errors)\u001b[0m\n\u001b[0;32m    590\u001b[0m         \u001b[0mvalues\u001b[0m \u001b[1;33m=\u001b[0m \u001b[0mself\u001b[0m\u001b[1;33m.\u001b[0m\u001b[0mvalues\u001b[0m\u001b[1;33m\u001b[0m\u001b[1;33m\u001b[0m\u001b[0m\n\u001b[0;32m    591\u001b[0m \u001b[1;33m\u001b[0m\u001b[0m\n\u001b[1;32m--> 592\u001b[1;33m         \u001b[0mnew_values\u001b[0m \u001b[1;33m=\u001b[0m \u001b[0mastype_array_safe\u001b[0m\u001b[1;33m(\u001b[0m\u001b[0mvalues\u001b[0m\u001b[1;33m,\u001b[0m \u001b[0mdtype\u001b[0m\u001b[1;33m,\u001b[0m \u001b[0mcopy\u001b[0m\u001b[1;33m=\u001b[0m\u001b[0mcopy\u001b[0m\u001b[1;33m,\u001b[0m \u001b[0merrors\u001b[0m\u001b[1;33m=\u001b[0m\u001b[0merrors\u001b[0m\u001b[1;33m)\u001b[0m\u001b[1;33m\u001b[0m\u001b[1;33m\u001b[0m\u001b[0m\n\u001b[0m\u001b[0;32m    593\u001b[0m \u001b[1;33m\u001b[0m\u001b[0m\n\u001b[0;32m    594\u001b[0m         \u001b[0mnew_values\u001b[0m \u001b[1;33m=\u001b[0m \u001b[0mmaybe_coerce_values\u001b[0m\u001b[1;33m(\u001b[0m\u001b[0mnew_values\u001b[0m\u001b[1;33m)\u001b[0m\u001b[1;33m\u001b[0m\u001b[1;33m\u001b[0m\u001b[0m\n",
      "\u001b[1;32m~\\anaconda3\\lib\\site-packages\\pandas\\core\\dtypes\\cast.py\u001b[0m in \u001b[0;36mastype_array_safe\u001b[1;34m(values, dtype, copy, errors)\u001b[0m\n\u001b[0;32m   1307\u001b[0m \u001b[1;33m\u001b[0m\u001b[0m\n\u001b[0;32m   1308\u001b[0m     \u001b[1;32mtry\u001b[0m\u001b[1;33m:\u001b[0m\u001b[1;33m\u001b[0m\u001b[1;33m\u001b[0m\u001b[0m\n\u001b[1;32m-> 1309\u001b[1;33m         \u001b[0mnew_values\u001b[0m \u001b[1;33m=\u001b[0m \u001b[0mastype_array\u001b[0m\u001b[1;33m(\u001b[0m\u001b[0mvalues\u001b[0m\u001b[1;33m,\u001b[0m \u001b[0mdtype\u001b[0m\u001b[1;33m,\u001b[0m \u001b[0mcopy\u001b[0m\u001b[1;33m=\u001b[0m\u001b[0mcopy\u001b[0m\u001b[1;33m)\u001b[0m\u001b[1;33m\u001b[0m\u001b[1;33m\u001b[0m\u001b[0m\n\u001b[0m\u001b[0;32m   1310\u001b[0m     \u001b[1;32mexcept\u001b[0m \u001b[1;33m(\u001b[0m\u001b[0mValueError\u001b[0m\u001b[1;33m,\u001b[0m \u001b[0mTypeError\u001b[0m\u001b[1;33m)\u001b[0m\u001b[1;33m:\u001b[0m\u001b[1;33m\u001b[0m\u001b[1;33m\u001b[0m\u001b[0m\n\u001b[0;32m   1311\u001b[0m         \u001b[1;31m# e.g. astype_nansafe can fail on object-dtype of strings\u001b[0m\u001b[1;33m\u001b[0m\u001b[1;33m\u001b[0m\u001b[1;33m\u001b[0m\u001b[0m\n",
      "\u001b[1;32m~\\anaconda3\\lib\\site-packages\\pandas\\core\\dtypes\\cast.py\u001b[0m in \u001b[0;36mastype_array\u001b[1;34m(values, dtype, copy)\u001b[0m\n\u001b[0;32m   1255\u001b[0m \u001b[1;33m\u001b[0m\u001b[0m\n\u001b[0;32m   1256\u001b[0m     \u001b[1;32melse\u001b[0m\u001b[1;33m:\u001b[0m\u001b[1;33m\u001b[0m\u001b[1;33m\u001b[0m\u001b[0m\n\u001b[1;32m-> 1257\u001b[1;33m         \u001b[0mvalues\u001b[0m \u001b[1;33m=\u001b[0m \u001b[0mastype_nansafe\u001b[0m\u001b[1;33m(\u001b[0m\u001b[0mvalues\u001b[0m\u001b[1;33m,\u001b[0m \u001b[0mdtype\u001b[0m\u001b[1;33m,\u001b[0m \u001b[0mcopy\u001b[0m\u001b[1;33m=\u001b[0m\u001b[0mcopy\u001b[0m\u001b[1;33m)\u001b[0m\u001b[1;33m\u001b[0m\u001b[1;33m\u001b[0m\u001b[0m\n\u001b[0m\u001b[0;32m   1258\u001b[0m \u001b[1;33m\u001b[0m\u001b[0m\n\u001b[0;32m   1259\u001b[0m     \u001b[1;31m# in pandas we don't store numpy str dtypes, so convert to object\u001b[0m\u001b[1;33m\u001b[0m\u001b[1;33m\u001b[0m\u001b[1;33m\u001b[0m\u001b[0m\n",
      "\u001b[1;32m~\\anaconda3\\lib\\site-packages\\pandas\\core\\dtypes\\cast.py\u001b[0m in \u001b[0;36mastype_nansafe\u001b[1;34m(arr, dtype, copy, skipna)\u001b[0m\n\u001b[0;32m   1199\u001b[0m     \u001b[1;32mif\u001b[0m \u001b[0mcopy\u001b[0m \u001b[1;32mor\u001b[0m \u001b[0mis_object_dtype\u001b[0m\u001b[1;33m(\u001b[0m\u001b[0marr\u001b[0m\u001b[1;33m.\u001b[0m\u001b[0mdtype\u001b[0m\u001b[1;33m)\u001b[0m \u001b[1;32mor\u001b[0m \u001b[0mis_object_dtype\u001b[0m\u001b[1;33m(\u001b[0m\u001b[0mdtype\u001b[0m\u001b[1;33m)\u001b[0m\u001b[1;33m:\u001b[0m\u001b[1;33m\u001b[0m\u001b[1;33m\u001b[0m\u001b[0m\n\u001b[0;32m   1200\u001b[0m         \u001b[1;31m# Explicit copy, or required since NumPy can't view from / to object.\u001b[0m\u001b[1;33m\u001b[0m\u001b[1;33m\u001b[0m\u001b[1;33m\u001b[0m\u001b[0m\n\u001b[1;32m-> 1201\u001b[1;33m         \u001b[1;32mreturn\u001b[0m \u001b[0marr\u001b[0m\u001b[1;33m.\u001b[0m\u001b[0mastype\u001b[0m\u001b[1;33m(\u001b[0m\u001b[0mdtype\u001b[0m\u001b[1;33m,\u001b[0m \u001b[0mcopy\u001b[0m\u001b[1;33m=\u001b[0m\u001b[1;32mTrue\u001b[0m\u001b[1;33m)\u001b[0m\u001b[1;33m\u001b[0m\u001b[1;33m\u001b[0m\u001b[0m\n\u001b[0m\u001b[0;32m   1202\u001b[0m \u001b[1;33m\u001b[0m\u001b[0m\n\u001b[0;32m   1203\u001b[0m     \u001b[1;32mreturn\u001b[0m \u001b[0marr\u001b[0m\u001b[1;33m.\u001b[0m\u001b[0mastype\u001b[0m\u001b[1;33m(\u001b[0m\u001b[0mdtype\u001b[0m\u001b[1;33m,\u001b[0m \u001b[0mcopy\u001b[0m\u001b[1;33m=\u001b[0m\u001b[0mcopy\u001b[0m\u001b[1;33m)\u001b[0m\u001b[1;33m\u001b[0m\u001b[1;33m\u001b[0m\u001b[0m\n",
      "\u001b[1;31mValueError\u001b[0m: could not convert string to float: '1gbps'"
     ]
    }
   ],
   "source": [
    "tier1_data = tier1_data[(tier1_data['Internet Speed']!=\"don’t know\")&(tier1_data['Internet Speed']!=\"didn’t know\")&(tier1_data['Internet Speed']!=\"nil\")&(tier1_data['Internet Speed']!=\"Airtle\")&(tier1_data['Internet Speed']!=\"GTPL\")&(tier1_data['Internet Speed']!='-')&(tier1_data['Internet Speed']!=\"didn’t tell\")]\n",
    "tier1_data['Internet Speed'] = tier1_data['Internet Speed'].astype(np.float64)\n",
    "tier1_data['Internet Speed'].value_counts()"
   ]
  },
  {
   "cell_type": "code",
   "execution_count": null,
   "id": "324e26e9",
   "metadata": {},
   "outputs": [],
   "source": [
    "tier1_data.shape"
   ]
  },
  {
   "cell_type": "markdown",
   "id": "8f7f1564",
   "metadata": {},
   "source": [
    "## Internet Monthly Cost"
   ]
  },
  {
   "cell_type": "code",
   "execution_count": null,
   "id": "3f6e5270",
   "metadata": {},
   "outputs": [],
   "source": [
    "for x in tier1_data['Internet Monthly Cost'].values:\n",
    "    if type(x) == str:\n",
    "        if re.search('\\d+',x) is not None:\n",
    "            tier1_data['Internet Monthly Cost'].replace(x,re.search('\\d+',x).group(),inplace=True)"
   ]
  },
  {
   "cell_type": "code",
   "execution_count": null,
   "id": "321ff1a2",
   "metadata": {},
   "outputs": [],
   "source": [
    "for x in tier1_data['Internet Monthly Cost'].values:\n",
    "    if isinstance(x,(datetime.datetime)):\n",
    "        tier1_data['Internet Monthly Cost'].replace(x,datetime_to_int(x),inplace=True)\n",
    "tier1_data = tier1_data[tier1_data['Internet Monthly Cost']!=80001201000000]"
   ]
  },
  {
   "cell_type": "code",
   "execution_count": null,
   "id": "2f8a862f",
   "metadata": {},
   "outputs": [],
   "source": [
    "tier1_data = tier1_data[(tier1_data['Internet Monthly Cost']!=\"don’t know\")&(tier1_data['Internet Monthly Cost']!=\"didn’t know\")&(tier1_data['Internet Monthly Cost']!=\"don’t use internet\")&(tier1_data['Internet Monthly Cost']!=\"top-ups on need\")&(tier1_data['Internet Monthly Cost']!=\"did not tell\")&(tier1_data['Internet Monthly Cost']!='yearly plan with IT')&(tier1_data['Internet Monthly Cost']!=\"8000-12-01 00:00:00\")&(tier1_data['Internet Monthly Cost']!=\"didn’t tell\")&(tier1_data['Internet Monthly Cost']!=\"No\")&(tier1_data['Internet Monthly Cost']!=\"don’t use\")&(tier1_data['Internet Monthly Cost']!=\"not aware\")&(tier1_data['Internet Monthly Cost']!=\"mobile data\")&(tier1_data['Internet Monthly Cost']!='-')&(tier1_data['Internet Monthly Cost']!=\"Don't Know\")&(tier1_data['Internet Monthly Cost']!=\"can't say\")]\n",
    "tier1_data['Internet Monthly Cost'] = tier1_data['Internet Monthly Cost'].astype(np.float64)"
   ]
  },
  {
   "cell_type": "code",
   "execution_count": null,
   "id": "2975cce1",
   "metadata": {},
   "outputs": [],
   "source": [
    "tier1_data.shape"
   ]
  },
  {
   "cell_type": "markdown",
   "id": "349ce6af",
   "metadata": {},
   "source": [
    "## Internet Brand"
   ]
  },
  {
   "cell_type": "code",
   "execution_count": null,
   "id": "67b180b6",
   "metadata": {},
   "outputs": [],
   "source": [
    "tier1_data['Internet Brand'].replace(['jiofibre','jio fibre'],'Jio Fibre',inplace=True)\n",
    "tier1_data['Internet Brand'].replace('alliance','Alliance',inplace=True)\n",
    "tier1_data['Internet Brand'].replace(['airtel','Airtel'],'Airtel',inplace=True)\n",
    "tier1_data['Internet Brand'].replace('wish net','Wish Net',inplace=True)\n",
    "tier1_data['Internet Brand'].replace('a-fiber net','Fibernet',inplace=True)\n",
    "tier1_data['Internet Brand'].replace('act-fiber','ACT Fibernet',inplace=True)\n",
    "tier1_data['Internet Brand'].replace('you broad band','You Broad Band',inplace=True)\n",
    "tier1_data['Internet Brand'].replace('did not know','Unknown',inplace=True)\n",
    "tier1_data['Internet Brand'].replace('cloudnine','Cloud 9',inplace=True)\n",
    "tier1_data['Internet Brand'].value_counts()"
   ]
  },
  {
   "cell_type": "code",
   "execution_count": null,
   "id": "0a40e124",
   "metadata": {},
   "outputs": [],
   "source": [
    "tier1_data.shape"
   ]
  },
  {
   "cell_type": "markdown",
   "id": "70534cc3",
   "metadata": {},
   "source": [
    "## Comment"
   ]
  },
  {
   "cell_type": "code",
   "execution_count": null,
   "id": "e7254fdd",
   "metadata": {},
   "outputs": [],
   "source": [
    "tier1_data['Comment'].unique()"
   ]
  },
  {
   "cell_type": "code",
   "execution_count": null,
   "id": "daa33970",
   "metadata": {},
   "outputs": [],
   "source": [
    "tier1_data['Comment'].replace(['Not intrested','Not Interested','Switched OFF','Not interested','not interested','Due to lockdown ','Call cut (Not interested)','Not accepting calls for now','Office closed till 15th May dont want to talk','Not interested (Client based platoform he need where he can get as much as client )','not intersted','dont share info','dont want to share','Call not answered', 'Phone switched off', 'Phone Switched off', 'Not Interested in sharing any type of info.',\"Didn't pickup the call\",'had cut the call','he disconnected the call','disconnected the call','Switched Off','left the business','no interested','no more doing photography','call declined', 'not connecting','not answering','call cut','not picking up the call','non connecting the call','switched off','disconnected','not a photoghrapher','not in business(may be later)','switch off','Not interested (institutional based company)', 'Not interested ','Business shutdown','Try to call later (Blocked my number )','AS OF now closed when things get normal will get back in business','Not in business', 'Due to lockdown , Business is shutdown','business shutdown', 'Not Interested, will call after someday'],\"Not Interested\",inplace=True)\n",
    "not_interested = np.array(['Not intrested','Not Interested','Switched OFF','Not interested','not interested','Due to lockdown ','Call cut (Not interested)','Not accepting calls for now','Office closed till 15th May dont want to talk','Not interested (Client based platoform he need where he can get as much as client )','not intersted','dont share info','dont want to share','Call not answered', 'Phone switched off', 'Phone Switched off', 'Not Interested in sharing any type of info.',\"Didn't pickup the call\",'had cut the call','he disconnected the call','disconnected the call','Switched Off','left the business','no interested','no more doing photography','call declined', 'not connecting','not answering','call cut','not picking up the call','non connecting the call','switched off','disconnected','not a photoghrapher','not in business(may be later)','switch off','Not interested (institutional based company)', 'Not interested ','Business shutdown','Try to call later (Blocked my number )','AS OF now closed when things get normal will get back in business','Not in business', 'Due to lockdown , Business is shutdown','business shutdown', 'Not Interested, will call after someday'])"
   ]
  },
  {
   "cell_type": "code",
   "execution_count": null,
   "id": "be61effd",
   "metadata": {},
   "outputs": [],
   "source": [
    "interested = []\n",
    "for x in tier1_data['Comment'].unique():\n",
    "    if x not in not_interested:\n",
    "        interested.append(x)\n",
    "tier1_data['Comment'].replace(interested,\"Interested\",inplace=True)"
   ]
  },
  {
   "cell_type": "code",
   "execution_count": null,
   "id": "cf98cbc3",
   "metadata": {},
   "outputs": [],
   "source": [
    "tier1_data['Comment'] = np.where(tier1_data['Comment']=='Not Interested',0,tier1_data['Comment'])\n",
    "tier1_data['Comment'] = np.where(tier1_data['Comment']=='Interested',1,tier1_data['Comment'])\n",
    "tier1_data['Comment'] = tier1_data['Comment'].astype(np.float64)\n",
    "tier1_data['Comment'].value_counts()"
   ]
  },
  {
   "cell_type": "code",
   "execution_count": null,
   "id": "f9dac867",
   "metadata": {},
   "outputs": [],
   "source": [
    "tier1_data.drop(columns=['Contact','Contact No. Available'],inplace=True)"
   ]
  },
  {
   "cell_type": "code",
   "execution_count": null,
   "id": "a5ea7ef6",
   "metadata": {},
   "outputs": [],
   "source": [
    "tier1_data.info()"
   ]
  },
  {
   "cell_type": "markdown",
   "id": "3fe9745e",
   "metadata": {},
   "source": [
    "## Type"
   ]
  },
  {
   "cell_type": "code",
   "execution_count": null,
   "id": "dff3125d",
   "metadata": {},
   "outputs": [],
   "source": [
    "for x in tier1_data['Type'].unique():\n",
    "    tier1_data['Type'].replace(x,x.strip(\"· \"),inplace=True)\n",
    "    tier1_data['Type'].replace(x,x.strip(\"No reviews · \"),inplace=True)\n",
    "tier1_data['Type'].replace('Photography servic','Photography service',inplace=True)\n",
    "tier1_data['Type'].replace('Wedding plann','Wedding plan',inplace=True)\n",
    "tier1_data['Type'].replace('Wedding plann','Wedding plan',inplace=True)\n",
    "tier1_data['Type'].replace('Internet marketing servic','Internet marketing service',inplace=True)\n",
    "tier1_data['Type'].replace('Photography stud','Photography studio',inplace=True)\n",
    "tier1_data['Type'].replace('Model portfolio stud','Model portfolio studio',inplace=True)\n",
    "tier1_data['Type'].replace('Photography Institut','Photography Institute',inplace=True)\n",
    "tier1_data['Type'].replace('Video editing servic','Video editing service',inplace=True)\n",
    "tier1_data['Type'].replace('Tour operat','Tour operator',inplace=True)\n",
    "tier1_data['Type'].replace('Copier repair servic','Copier repair service',inplace=True)\n",
    "tier1_data['Type'].replace('Photography Institut','Photography Institute',inplace=True)\n",
    "tier1_data['Type'].replace('Video production servic','Video production service',inplace=True)\n",
    "tier1_data['Type'].replace('Portrait stud','Portrait studio',inplace=True)\n",
    "tier1_data['Type'].replace('Photography Cla','CLA Photography',inplace=True)\n",
    "tier1_data['Type'].replace('Corporate gift suppl','Corporate gift supply',inplace=True)\n",
    "tier1_data['Type'].replace('Photography Institut','Photography Institute',inplace=True)\n",
    "tier1_data['Type'].replace('Camera st','Camera studio',inplace=True)\n",
    "tier1_data['Type'].replace('Electronics st','Electronics studio',inplace=True)\n",
    "tier1_data['Type'].replace(['Wedding venu', 'Colleg','Design institut'],['Wedding venue', 'College','Design institute'],inplace=True)\n",
    "tier1_data['Type'].replace(['th Indian restaurant', 'Corporate offic'],['The Indian restaurant', 'Corporate office'],inplace=True)"
   ]
  },
  {
   "cell_type": "code",
   "execution_count": null,
   "id": "09778a83",
   "metadata": {},
   "outputs": [],
   "source": [
    "tier1_data['Type'].unique()"
   ]
  },
  {
   "cell_type": "code",
   "execution_count": null,
   "id": "0184e2b2",
   "metadata": {},
   "outputs": [],
   "source": []
  }
 ],
 "metadata": {
  "kernelspec": {
   "display_name": "Python 3",
   "language": "python",
   "name": "python3"
  },
  "language_info": {
   "codemirror_mode": {
    "name": "ipython",
    "version": 3
   },
   "file_extension": ".py",
   "mimetype": "text/x-python",
   "name": "python",
   "nbconvert_exporter": "python",
   "pygments_lexer": "ipython3",
   "version": "3.8.8"
  }
 },
 "nbformat": 4,
 "nbformat_minor": 5
}
